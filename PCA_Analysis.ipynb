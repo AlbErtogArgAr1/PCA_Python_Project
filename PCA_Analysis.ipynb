{
  "nbformat": 4,
  "nbformat_minor": 0,
  "metadata": {
    "colab": {
      "provenance": [],
      "mount_file_id": "1inrckXOeSOJSJ-ypqSwjJWvaEQmPMceu",
      "authorship_tag": "ABX9TyPWU9h9UEOh+UPeNWptaWoL",
      "include_colab_link": true
    },
    "kernelspec": {
      "name": "python3",
      "display_name": "Python 3"
    },
    "language_info": {
      "name": "python"
    }
  },
  "cells": [
    {
      "cell_type": "markdown",
      "metadata": {
        "id": "view-in-github",
        "colab_type": "text"
      },
      "source": [
        "<a href=\"https://colab.research.google.com/github/AlbErtogArgAr1/PCA_Python_Project/blob/main/PCA_Analysis.ipynb\" target=\"_parent\"><img src=\"https://colab.research.google.com/assets/colab-badge.svg\" alt=\"Open In Colab\"/></a>"
      ]
    },
    {
      "cell_type": "markdown",
      "source": [
        "##Here is my project using PCA to reduce the dimensionality of \"Airline Passenger Satisfaction\" data set. I search this data set from \" https://www.mavenanalytics.io/data-playground \"  which is a very good resource of free Data Sets. I choose this data set because it have 24 variables, so is enought large to apply PCA and I found interesting to study what are the main reasons to achieve passenger satisfaction. \n",
        "\n",
        "###I used this technique to remove correlated features, improves machine learning algorithm performance and reduce overfitting.\n",
        "\n",
        "###The maths behind PCA technique are a bit more complex, but to summarise PCA find the best fitting line (or the best estimation in each use of case) by maximizing the sum of squared distances from the projected points to the origin. \n",
        "\n",
        "###The key aim of PCA is to reduce the number of variables of a data set, while preserving as much information as possible. So I'm going to estimate what the correct number of variables is before go on with my PCA analysis.\n",
        "\n",
        "\n"
      ],
      "metadata": {
        "id": "3Pge4jnXXkGd"
      }
    },
    {
      "cell_type": "code",
      "source": [
        "from google.colab import drive\n",
        "drive.mount('/content/drive')\n"
      ],
      "metadata": {
        "colab": {
          "base_uri": "https://localhost:8080/"
        },
        "id": "fne325hNeW6V",
        "outputId": "183852fa-dfca-463e-d08b-756a8826270e"
      },
      "execution_count": null,
      "outputs": [
        {
          "output_type": "stream",
          "name": "stdout",
          "text": [
            "Drive already mounted at /content/drive; to attempt to forcibly remount, call drive.mount(\"/content/drive\", force_remount=True).\n"
          ]
        }
      ]
    },
    {
      "cell_type": "code",
      "source": [
        "import pandas as pd "
      ],
      "metadata": {
        "id": "EVH0zT6UheRm"
      },
      "execution_count": null,
      "outputs": []
    },
    {
      "cell_type": "code",
      "source": [
        "Passenger_satisfaction = pd.read_csv(\"/content/drive/MyDrive/Portfolioproject/airline_passenger_satisfaction.csv\") "
      ],
      "metadata": {
        "id": "L705-uMqhFzu"
      },
      "execution_count": null,
      "outputs": []
    },
    {
      "cell_type": "code",
      "source": [
        "Passenger_satisfaction.head(10)"
      ],
      "metadata": {
        "colab": {
          "base_uri": "https://localhost:8080/",
          "height": 543
        },
        "id": "tG4eJGVqiLlF",
        "outputId": "ec9fd3b5-758a-4316-eceb-d24b0142c0e3"
      },
      "execution_count": null,
      "outputs": [
        {
          "output_type": "execute_result",
          "data": {
            "text/plain": [
              "   ID  Gender  Age Customer Type Type of Travel     Class  Flight Distance  \\\n",
              "0   1    Male   48    First-time       Business  Business              821   \n",
              "1   2  Female   35     Returning       Business  Business              821   \n",
              "2   3    Male   41     Returning       Business  Business              853   \n",
              "3   4    Male   50     Returning       Business  Business             1905   \n",
              "4   5  Female   49     Returning       Business  Business             3470   \n",
              "5   6    Male   43     Returning       Business  Business             3788   \n",
              "6   7    Male   43     Returning       Business  Business             1963   \n",
              "7   8  Female   60     Returning       Business  Business              853   \n",
              "8   9    Male   50     Returning       Business  Business             2607   \n",
              "9  10  Female   38     Returning       Business  Business             2822   \n",
              "\n",
              "   Departure Delay  Arrival Delay  Departure and Arrival Time Convenience  \\\n",
              "0                2            5.0                                       3   \n",
              "1               26           39.0                                       2   \n",
              "2                0            0.0                                       4   \n",
              "3                0            0.0                                       2   \n",
              "4                0            1.0                                       3   \n",
              "5                0            0.0                                       4   \n",
              "6                0            0.0                                       3   \n",
              "7                0            3.0                                       3   \n",
              "8                0            0.0                                       1   \n",
              "9               13            0.0                                       2   \n",
              "\n",
              "   ...  On-board Service  Seat Comfort  Leg Room Service  Cleanliness  \\\n",
              "0  ...                 3             5                 2            5   \n",
              "1  ...                 5             4                 5            5   \n",
              "2  ...                 3             5                 3            5   \n",
              "3  ...                 5             5                 5            4   \n",
              "4  ...                 3             4                 4            5   \n",
              "5  ...                 4             4                 4            3   \n",
              "6  ...                 5             5                 5            4   \n",
              "7  ...                 3             4                 4            4   \n",
              "8  ...                 4             3                 4            3   \n",
              "9  ...                 5             4                 5            4   \n",
              "\n",
              "   Food and Drink  In-flight Service  In-flight Wifi Service  \\\n",
              "0               5                  5                       3   \n",
              "1               3                  5                       2   \n",
              "2               5                  3                       4   \n",
              "3               4                  5                       2   \n",
              "4               4                  3                       3   \n",
              "5               3                  4                       4   \n",
              "6               5                  5                       3   \n",
              "7               4                  3                       4   \n",
              "8               3                  4                       4   \n",
              "9               2                  5                       2   \n",
              "\n",
              "   In-flight Entertainment  Baggage Handling             Satisfaction  \n",
              "0                        5                 5  Neutral or Dissatisfied  \n",
              "1                        5                 5                Satisfied  \n",
              "2                        3                 3                Satisfied  \n",
              "3                        5                 5                Satisfied  \n",
              "4                        3                 3                Satisfied  \n",
              "5                        4                 4                Satisfied  \n",
              "6                        5                 5                Satisfied  \n",
              "7                        3                 3                Satisfied  \n",
              "8                        4                 4  Neutral or Dissatisfied  \n",
              "9                        5                 5                Satisfied  \n",
              "\n",
              "[10 rows x 24 columns]"
            ],
            "text/html": [
              "\n",
              "  <div id=\"df-49744bde-0880-4cc3-912f-db6435a978b4\">\n",
              "    <div class=\"colab-df-container\">\n",
              "      <div>\n",
              "<style scoped>\n",
              "    .dataframe tbody tr th:only-of-type {\n",
              "        vertical-align: middle;\n",
              "    }\n",
              "\n",
              "    .dataframe tbody tr th {\n",
              "        vertical-align: top;\n",
              "    }\n",
              "\n",
              "    .dataframe thead th {\n",
              "        text-align: right;\n",
              "    }\n",
              "</style>\n",
              "<table border=\"1\" class=\"dataframe\">\n",
              "  <thead>\n",
              "    <tr style=\"text-align: right;\">\n",
              "      <th></th>\n",
              "      <th>ID</th>\n",
              "      <th>Gender</th>\n",
              "      <th>Age</th>\n",
              "      <th>Customer Type</th>\n",
              "      <th>Type of Travel</th>\n",
              "      <th>Class</th>\n",
              "      <th>Flight Distance</th>\n",
              "      <th>Departure Delay</th>\n",
              "      <th>Arrival Delay</th>\n",
              "      <th>Departure and Arrival Time Convenience</th>\n",
              "      <th>...</th>\n",
              "      <th>On-board Service</th>\n",
              "      <th>Seat Comfort</th>\n",
              "      <th>Leg Room Service</th>\n",
              "      <th>Cleanliness</th>\n",
              "      <th>Food and Drink</th>\n",
              "      <th>In-flight Service</th>\n",
              "      <th>In-flight Wifi Service</th>\n",
              "      <th>In-flight Entertainment</th>\n",
              "      <th>Baggage Handling</th>\n",
              "      <th>Satisfaction</th>\n",
              "    </tr>\n",
              "  </thead>\n",
              "  <tbody>\n",
              "    <tr>\n",
              "      <th>0</th>\n",
              "      <td>1</td>\n",
              "      <td>Male</td>\n",
              "      <td>48</td>\n",
              "      <td>First-time</td>\n",
              "      <td>Business</td>\n",
              "      <td>Business</td>\n",
              "      <td>821</td>\n",
              "      <td>2</td>\n",
              "      <td>5.0</td>\n",
              "      <td>3</td>\n",
              "      <td>...</td>\n",
              "      <td>3</td>\n",
              "      <td>5</td>\n",
              "      <td>2</td>\n",
              "      <td>5</td>\n",
              "      <td>5</td>\n",
              "      <td>5</td>\n",
              "      <td>3</td>\n",
              "      <td>5</td>\n",
              "      <td>5</td>\n",
              "      <td>Neutral or Dissatisfied</td>\n",
              "    </tr>\n",
              "    <tr>\n",
              "      <th>1</th>\n",
              "      <td>2</td>\n",
              "      <td>Female</td>\n",
              "      <td>35</td>\n",
              "      <td>Returning</td>\n",
              "      <td>Business</td>\n",
              "      <td>Business</td>\n",
              "      <td>821</td>\n",
              "      <td>26</td>\n",
              "      <td>39.0</td>\n",
              "      <td>2</td>\n",
              "      <td>...</td>\n",
              "      <td>5</td>\n",
              "      <td>4</td>\n",
              "      <td>5</td>\n",
              "      <td>5</td>\n",
              "      <td>3</td>\n",
              "      <td>5</td>\n",
              "      <td>2</td>\n",
              "      <td>5</td>\n",
              "      <td>5</td>\n",
              "      <td>Satisfied</td>\n",
              "    </tr>\n",
              "    <tr>\n",
              "      <th>2</th>\n",
              "      <td>3</td>\n",
              "      <td>Male</td>\n",
              "      <td>41</td>\n",
              "      <td>Returning</td>\n",
              "      <td>Business</td>\n",
              "      <td>Business</td>\n",
              "      <td>853</td>\n",
              "      <td>0</td>\n",
              "      <td>0.0</td>\n",
              "      <td>4</td>\n",
              "      <td>...</td>\n",
              "      <td>3</td>\n",
              "      <td>5</td>\n",
              "      <td>3</td>\n",
              "      <td>5</td>\n",
              "      <td>5</td>\n",
              "      <td>3</td>\n",
              "      <td>4</td>\n",
              "      <td>3</td>\n",
              "      <td>3</td>\n",
              "      <td>Satisfied</td>\n",
              "    </tr>\n",
              "    <tr>\n",
              "      <th>3</th>\n",
              "      <td>4</td>\n",
              "      <td>Male</td>\n",
              "      <td>50</td>\n",
              "      <td>Returning</td>\n",
              "      <td>Business</td>\n",
              "      <td>Business</td>\n",
              "      <td>1905</td>\n",
              "      <td>0</td>\n",
              "      <td>0.0</td>\n",
              "      <td>2</td>\n",
              "      <td>...</td>\n",
              "      <td>5</td>\n",
              "      <td>5</td>\n",
              "      <td>5</td>\n",
              "      <td>4</td>\n",
              "      <td>4</td>\n",
              "      <td>5</td>\n",
              "      <td>2</td>\n",
              "      <td>5</td>\n",
              "      <td>5</td>\n",
              "      <td>Satisfied</td>\n",
              "    </tr>\n",
              "    <tr>\n",
              "      <th>4</th>\n",
              "      <td>5</td>\n",
              "      <td>Female</td>\n",
              "      <td>49</td>\n",
              "      <td>Returning</td>\n",
              "      <td>Business</td>\n",
              "      <td>Business</td>\n",
              "      <td>3470</td>\n",
              "      <td>0</td>\n",
              "      <td>1.0</td>\n",
              "      <td>3</td>\n",
              "      <td>...</td>\n",
              "      <td>3</td>\n",
              "      <td>4</td>\n",
              "      <td>4</td>\n",
              "      <td>5</td>\n",
              "      <td>4</td>\n",
              "      <td>3</td>\n",
              "      <td>3</td>\n",
              "      <td>3</td>\n",
              "      <td>3</td>\n",
              "      <td>Satisfied</td>\n",
              "    </tr>\n",
              "    <tr>\n",
              "      <th>5</th>\n",
              "      <td>6</td>\n",
              "      <td>Male</td>\n",
              "      <td>43</td>\n",
              "      <td>Returning</td>\n",
              "      <td>Business</td>\n",
              "      <td>Business</td>\n",
              "      <td>3788</td>\n",
              "      <td>0</td>\n",
              "      <td>0.0</td>\n",
              "      <td>4</td>\n",
              "      <td>...</td>\n",
              "      <td>4</td>\n",
              "      <td>4</td>\n",
              "      <td>4</td>\n",
              "      <td>3</td>\n",
              "      <td>3</td>\n",
              "      <td>4</td>\n",
              "      <td>4</td>\n",
              "      <td>4</td>\n",
              "      <td>4</td>\n",
              "      <td>Satisfied</td>\n",
              "    </tr>\n",
              "    <tr>\n",
              "      <th>6</th>\n",
              "      <td>7</td>\n",
              "      <td>Male</td>\n",
              "      <td>43</td>\n",
              "      <td>Returning</td>\n",
              "      <td>Business</td>\n",
              "      <td>Business</td>\n",
              "      <td>1963</td>\n",
              "      <td>0</td>\n",
              "      <td>0.0</td>\n",
              "      <td>3</td>\n",
              "      <td>...</td>\n",
              "      <td>5</td>\n",
              "      <td>5</td>\n",
              "      <td>5</td>\n",
              "      <td>4</td>\n",
              "      <td>5</td>\n",
              "      <td>5</td>\n",
              "      <td>3</td>\n",
              "      <td>5</td>\n",
              "      <td>5</td>\n",
              "      <td>Satisfied</td>\n",
              "    </tr>\n",
              "    <tr>\n",
              "      <th>7</th>\n",
              "      <td>8</td>\n",
              "      <td>Female</td>\n",
              "      <td>60</td>\n",
              "      <td>Returning</td>\n",
              "      <td>Business</td>\n",
              "      <td>Business</td>\n",
              "      <td>853</td>\n",
              "      <td>0</td>\n",
              "      <td>3.0</td>\n",
              "      <td>3</td>\n",
              "      <td>...</td>\n",
              "      <td>3</td>\n",
              "      <td>4</td>\n",
              "      <td>4</td>\n",
              "      <td>4</td>\n",
              "      <td>4</td>\n",
              "      <td>3</td>\n",
              "      <td>4</td>\n",
              "      <td>3</td>\n",
              "      <td>3</td>\n",
              "      <td>Satisfied</td>\n",
              "    </tr>\n",
              "    <tr>\n",
              "      <th>8</th>\n",
              "      <td>9</td>\n",
              "      <td>Male</td>\n",
              "      <td>50</td>\n",
              "      <td>Returning</td>\n",
              "      <td>Business</td>\n",
              "      <td>Business</td>\n",
              "      <td>2607</td>\n",
              "      <td>0</td>\n",
              "      <td>0.0</td>\n",
              "      <td>1</td>\n",
              "      <td>...</td>\n",
              "      <td>4</td>\n",
              "      <td>3</td>\n",
              "      <td>4</td>\n",
              "      <td>3</td>\n",
              "      <td>3</td>\n",
              "      <td>4</td>\n",
              "      <td>4</td>\n",
              "      <td>4</td>\n",
              "      <td>4</td>\n",
              "      <td>Neutral or Dissatisfied</td>\n",
              "    </tr>\n",
              "    <tr>\n",
              "      <th>9</th>\n",
              "      <td>10</td>\n",
              "      <td>Female</td>\n",
              "      <td>38</td>\n",
              "      <td>Returning</td>\n",
              "      <td>Business</td>\n",
              "      <td>Business</td>\n",
              "      <td>2822</td>\n",
              "      <td>13</td>\n",
              "      <td>0.0</td>\n",
              "      <td>2</td>\n",
              "      <td>...</td>\n",
              "      <td>5</td>\n",
              "      <td>4</td>\n",
              "      <td>5</td>\n",
              "      <td>4</td>\n",
              "      <td>2</td>\n",
              "      <td>5</td>\n",
              "      <td>2</td>\n",
              "      <td>5</td>\n",
              "      <td>5</td>\n",
              "      <td>Satisfied</td>\n",
              "    </tr>\n",
              "  </tbody>\n",
              "</table>\n",
              "<p>10 rows × 24 columns</p>\n",
              "</div>\n",
              "      <button class=\"colab-df-convert\" onclick=\"convertToInteractive('df-49744bde-0880-4cc3-912f-db6435a978b4')\"\n",
              "              title=\"Convert this dataframe to an interactive table.\"\n",
              "              style=\"display:none;\">\n",
              "        \n",
              "  <svg xmlns=\"http://www.w3.org/2000/svg\" height=\"24px\"viewBox=\"0 0 24 24\"\n",
              "       width=\"24px\">\n",
              "    <path d=\"M0 0h24v24H0V0z\" fill=\"none\"/>\n",
              "    <path d=\"M18.56 5.44l.94 2.06.94-2.06 2.06-.94-2.06-.94-.94-2.06-.94 2.06-2.06.94zm-11 1L8.5 8.5l.94-2.06 2.06-.94-2.06-.94L8.5 2.5l-.94 2.06-2.06.94zm10 10l.94 2.06.94-2.06 2.06-.94-2.06-.94-.94-2.06-.94 2.06-2.06.94z\"/><path d=\"M17.41 7.96l-1.37-1.37c-.4-.4-.92-.59-1.43-.59-.52 0-1.04.2-1.43.59L10.3 9.45l-7.72 7.72c-.78.78-.78 2.05 0 2.83L4 21.41c.39.39.9.59 1.41.59.51 0 1.02-.2 1.41-.59l7.78-7.78 2.81-2.81c.8-.78.8-2.07 0-2.86zM5.41 20L4 18.59l7.72-7.72 1.47 1.35L5.41 20z\"/>\n",
              "  </svg>\n",
              "      </button>\n",
              "      \n",
              "  <style>\n",
              "    .colab-df-container {\n",
              "      display:flex;\n",
              "      flex-wrap:wrap;\n",
              "      gap: 12px;\n",
              "    }\n",
              "\n",
              "    .colab-df-convert {\n",
              "      background-color: #E8F0FE;\n",
              "      border: none;\n",
              "      border-radius: 50%;\n",
              "      cursor: pointer;\n",
              "      display: none;\n",
              "      fill: #1967D2;\n",
              "      height: 32px;\n",
              "      padding: 0 0 0 0;\n",
              "      width: 32px;\n",
              "    }\n",
              "\n",
              "    .colab-df-convert:hover {\n",
              "      background-color: #E2EBFA;\n",
              "      box-shadow: 0px 1px 2px rgba(60, 64, 67, 0.3), 0px 1px 3px 1px rgba(60, 64, 67, 0.15);\n",
              "      fill: #174EA6;\n",
              "    }\n",
              "\n",
              "    [theme=dark] .colab-df-convert {\n",
              "      background-color: #3B4455;\n",
              "      fill: #D2E3FC;\n",
              "    }\n",
              "\n",
              "    [theme=dark] .colab-df-convert:hover {\n",
              "      background-color: #434B5C;\n",
              "      box-shadow: 0px 1px 3px 1px rgba(0, 0, 0, 0.15);\n",
              "      filter: drop-shadow(0px 1px 2px rgba(0, 0, 0, 0.3));\n",
              "      fill: #FFFFFF;\n",
              "    }\n",
              "  </style>\n",
              "\n",
              "      <script>\n",
              "        const buttonEl =\n",
              "          document.querySelector('#df-49744bde-0880-4cc3-912f-db6435a978b4 button.colab-df-convert');\n",
              "        buttonEl.style.display =\n",
              "          google.colab.kernel.accessAllowed ? 'block' : 'none';\n",
              "\n",
              "        async function convertToInteractive(key) {\n",
              "          const element = document.querySelector('#df-49744bde-0880-4cc3-912f-db6435a978b4');\n",
              "          const dataTable =\n",
              "            await google.colab.kernel.invokeFunction('convertToInteractive',\n",
              "                                                     [key], {});\n",
              "          if (!dataTable) return;\n",
              "\n",
              "          const docLinkHtml = 'Like what you see? Visit the ' +\n",
              "            '<a target=\"_blank\" href=https://colab.research.google.com/notebooks/data_table.ipynb>data table notebook</a>'\n",
              "            + ' to learn more about interactive tables.';\n",
              "          element.innerHTML = '';\n",
              "          dataTable['output_type'] = 'display_data';\n",
              "          await google.colab.output.renderOutput(dataTable, element);\n",
              "          const docLink = document.createElement('div');\n",
              "          docLink.innerHTML = docLinkHtml;\n",
              "          element.appendChild(docLink);\n",
              "        }\n",
              "      </script>\n",
              "    </div>\n",
              "  </div>\n",
              "  "
            ]
          },
          "metadata": {},
          "execution_count": 4
        }
      ]
    },
    {
      "cell_type": "code",
      "source": [
        "Passenger_satisfaction.info()\n"
      ],
      "metadata": {
        "colab": {
          "base_uri": "https://localhost:8080/"
        },
        "id": "tEn8AJVDhxz6",
        "outputId": "c372c60a-3074-480c-e09a-a4088029ae92"
      },
      "execution_count": null,
      "outputs": [
        {
          "output_type": "stream",
          "name": "stdout",
          "text": [
            "<class 'pandas.core.frame.DataFrame'>\n",
            "RangeIndex: 129880 entries, 0 to 129879\n",
            "Data columns (total 24 columns):\n",
            " #   Column                                  Non-Null Count   Dtype  \n",
            "---  ------                                  --------------   -----  \n",
            " 0   ID                                      129880 non-null  int64  \n",
            " 1   Gender                                  129880 non-null  object \n",
            " 2   Age                                     129880 non-null  int64  \n",
            " 3   Customer Type                           129880 non-null  object \n",
            " 4   Type of Travel                          129880 non-null  object \n",
            " 5   Class                                   129880 non-null  object \n",
            " 6   Flight Distance                         129880 non-null  int64  \n",
            " 7   Departure Delay                         129880 non-null  int64  \n",
            " 8   Arrival Delay                           129487 non-null  float64\n",
            " 9   Departure and Arrival Time Convenience  129880 non-null  int64  \n",
            " 10  Ease of Online Booking                  129880 non-null  int64  \n",
            " 11  Check-in Service                        129880 non-null  int64  \n",
            " 12  Online Boarding                         129880 non-null  int64  \n",
            " 13  Gate Location                           129880 non-null  int64  \n",
            " 14  On-board Service                        129880 non-null  int64  \n",
            " 15  Seat Comfort                            129880 non-null  int64  \n",
            " 16  Leg Room Service                        129880 non-null  int64  \n",
            " 17  Cleanliness                             129880 non-null  int64  \n",
            " 18  Food and Drink                          129880 non-null  int64  \n",
            " 19  In-flight Service                       129880 non-null  int64  \n",
            " 20  In-flight Wifi Service                  129880 non-null  int64  \n",
            " 21  In-flight Entertainment                 129880 non-null  int64  \n",
            " 22  Baggage Handling                        129880 non-null  int64  \n",
            " 23  Satisfaction                            129880 non-null  object \n",
            "dtypes: float64(1), int64(18), object(5)\n",
            "memory usage: 23.8+ MB\n"
          ]
        }
      ]
    },
    {
      "cell_type": "markdown",
      "source": [
        "In this case, in order to simplify the project, we are going to apply PCA only to the columns whose data type are floating or integer numbers, so we drop the rest of the features."
      ],
      "metadata": {
        "id": "YDN1P3nGkKKI"
      }
    },
    {
      "cell_type": "code",
      "source": [
        "Passenger_satisfaction = Passenger_satisfaction.drop(['Gender', 'Customer Type', 'Type of Travel', 'Class'], axis=1)"
      ],
      "metadata": {
        "id": "L5KKyGxWmF4j"
      },
      "execution_count": null,
      "outputs": []
    },
    {
      "cell_type": "code",
      "source": [
        "Passenger_satisfaction"
      ],
      "metadata": {
        "colab": {
          "base_uri": "https://localhost:8080/",
          "height": 627
        },
        "id": "Beojs_7Z0Sp9",
        "outputId": "336c71d1-621e-4355-9a5e-cf6b51019c2e"
      },
      "execution_count": null,
      "outputs": [
        {
          "output_type": "execute_result",
          "data": {
            "text/plain": [
              "            ID  Age  Flight Distance  Departure Delay  Arrival Delay  \\\n",
              "0            1   48              821                2            5.0   \n",
              "1            2   35              821               26           39.0   \n",
              "2            3   41              853                0            0.0   \n",
              "3            4   50             1905                0            0.0   \n",
              "4            5   49             3470                0            1.0   \n",
              "...        ...  ...              ...              ...            ...   \n",
              "129875  129876   28              447                2            3.0   \n",
              "129876  129877   41              308                0            0.0   \n",
              "129877  129878   42              337                6           14.0   \n",
              "129878  129879   50              337               31           22.0   \n",
              "129879  129880   20              337                0            0.0   \n",
              "\n",
              "        Departure and Arrival Time Convenience  Ease of Online Booking  \\\n",
              "0                                            3                       3   \n",
              "1                                            2                       2   \n",
              "2                                            4                       4   \n",
              "3                                            2                       2   \n",
              "4                                            3                       3   \n",
              "...                                        ...                     ...   \n",
              "129875                                       4                       4   \n",
              "129876                                       5                       3   \n",
              "129877                                       5                       2   \n",
              "129878                                       4                       4   \n",
              "129879                                       1                       3   \n",
              "\n",
              "        Check-in Service  Online Boarding  Gate Location  On-board Service  \\\n",
              "0                      4                3              3                 3   \n",
              "1                      3                5              2                 5   \n",
              "2                      4                5              4                 3   \n",
              "3                      3                4              2                 5   \n",
              "4                      3                5              3                 3   \n",
              "...                  ...              ...            ...               ...   \n",
              "129875                 4                4              2                 5   \n",
              "129876                 5                3              4                 5   \n",
              "129877                 4                2              1                 3   \n",
              "129878                 3                4              1                 4   \n",
              "129879                 4                3              2                 4   \n",
              "\n",
              "        Seat Comfort  Leg Room Service  Cleanliness  Food and Drink  \\\n",
              "0                  5                 2            5               5   \n",
              "1                  4                 5            5               3   \n",
              "2                  5                 3            5               5   \n",
              "3                  5                 5            4               4   \n",
              "4                  4                 4            5               4   \n",
              "...              ...               ...          ...             ...   \n",
              "129875             1                 4            4               4   \n",
              "129876             2                 5            2               2   \n",
              "129877             3                 4            3               3   \n",
              "129878             4                 5            3               3   \n",
              "129879             2                 4            2               2   \n",
              "\n",
              "        In-flight Service  In-flight Wifi Service  In-flight Entertainment  \\\n",
              "0                       5                       3                        5   \n",
              "1                       5                       2                        5   \n",
              "2                       3                       4                        3   \n",
              "3                       5                       2                        5   \n",
              "4                       3                       3                        3   \n",
              "...                   ...                     ...                      ...   \n",
              "129875                  5                       4                        4   \n",
              "129876                  4                       3                        2   \n",
              "129877                  4                       2                        3   \n",
              "129878                  4                       5                        3   \n",
              "129879                  2                       3                        2   \n",
              "\n",
              "        Baggage Handling             Satisfaction  \n",
              "0                      5  Neutral or Dissatisfied  \n",
              "1                      5                Satisfied  \n",
              "2                      3                Satisfied  \n",
              "3                      5                Satisfied  \n",
              "4                      3                Satisfied  \n",
              "...                  ...                      ...  \n",
              "129875                 4  Neutral or Dissatisfied  \n",
              "129876                 5  Neutral or Dissatisfied  \n",
              "129877                 5  Neutral or Dissatisfied  \n",
              "129878                 5                Satisfied  \n",
              "129879                 1  Neutral or Dissatisfied  \n",
              "\n",
              "[129880 rows x 20 columns]"
            ],
            "text/html": [
              "\n",
              "  <div id=\"df-4bf2cc10-fa0c-4c2c-ae4b-4ce7e7bd42d2\">\n",
              "    <div class=\"colab-df-container\">\n",
              "      <div>\n",
              "<style scoped>\n",
              "    .dataframe tbody tr th:only-of-type {\n",
              "        vertical-align: middle;\n",
              "    }\n",
              "\n",
              "    .dataframe tbody tr th {\n",
              "        vertical-align: top;\n",
              "    }\n",
              "\n",
              "    .dataframe thead th {\n",
              "        text-align: right;\n",
              "    }\n",
              "</style>\n",
              "<table border=\"1\" class=\"dataframe\">\n",
              "  <thead>\n",
              "    <tr style=\"text-align: right;\">\n",
              "      <th></th>\n",
              "      <th>ID</th>\n",
              "      <th>Age</th>\n",
              "      <th>Flight Distance</th>\n",
              "      <th>Departure Delay</th>\n",
              "      <th>Arrival Delay</th>\n",
              "      <th>Departure and Arrival Time Convenience</th>\n",
              "      <th>Ease of Online Booking</th>\n",
              "      <th>Check-in Service</th>\n",
              "      <th>Online Boarding</th>\n",
              "      <th>Gate Location</th>\n",
              "      <th>On-board Service</th>\n",
              "      <th>Seat Comfort</th>\n",
              "      <th>Leg Room Service</th>\n",
              "      <th>Cleanliness</th>\n",
              "      <th>Food and Drink</th>\n",
              "      <th>In-flight Service</th>\n",
              "      <th>In-flight Wifi Service</th>\n",
              "      <th>In-flight Entertainment</th>\n",
              "      <th>Baggage Handling</th>\n",
              "      <th>Satisfaction</th>\n",
              "    </tr>\n",
              "  </thead>\n",
              "  <tbody>\n",
              "    <tr>\n",
              "      <th>0</th>\n",
              "      <td>1</td>\n",
              "      <td>48</td>\n",
              "      <td>821</td>\n",
              "      <td>2</td>\n",
              "      <td>5.0</td>\n",
              "      <td>3</td>\n",
              "      <td>3</td>\n",
              "      <td>4</td>\n",
              "      <td>3</td>\n",
              "      <td>3</td>\n",
              "      <td>3</td>\n",
              "      <td>5</td>\n",
              "      <td>2</td>\n",
              "      <td>5</td>\n",
              "      <td>5</td>\n",
              "      <td>5</td>\n",
              "      <td>3</td>\n",
              "      <td>5</td>\n",
              "      <td>5</td>\n",
              "      <td>Neutral or Dissatisfied</td>\n",
              "    </tr>\n",
              "    <tr>\n",
              "      <th>1</th>\n",
              "      <td>2</td>\n",
              "      <td>35</td>\n",
              "      <td>821</td>\n",
              "      <td>26</td>\n",
              "      <td>39.0</td>\n",
              "      <td>2</td>\n",
              "      <td>2</td>\n",
              "      <td>3</td>\n",
              "      <td>5</td>\n",
              "      <td>2</td>\n",
              "      <td>5</td>\n",
              "      <td>4</td>\n",
              "      <td>5</td>\n",
              "      <td>5</td>\n",
              "      <td>3</td>\n",
              "      <td>5</td>\n",
              "      <td>2</td>\n",
              "      <td>5</td>\n",
              "      <td>5</td>\n",
              "      <td>Satisfied</td>\n",
              "    </tr>\n",
              "    <tr>\n",
              "      <th>2</th>\n",
              "      <td>3</td>\n",
              "      <td>41</td>\n",
              "      <td>853</td>\n",
              "      <td>0</td>\n",
              "      <td>0.0</td>\n",
              "      <td>4</td>\n",
              "      <td>4</td>\n",
              "      <td>4</td>\n",
              "      <td>5</td>\n",
              "      <td>4</td>\n",
              "      <td>3</td>\n",
              "      <td>5</td>\n",
              "      <td>3</td>\n",
              "      <td>5</td>\n",
              "      <td>5</td>\n",
              "      <td>3</td>\n",
              "      <td>4</td>\n",
              "      <td>3</td>\n",
              "      <td>3</td>\n",
              "      <td>Satisfied</td>\n",
              "    </tr>\n",
              "    <tr>\n",
              "      <th>3</th>\n",
              "      <td>4</td>\n",
              "      <td>50</td>\n",
              "      <td>1905</td>\n",
              "      <td>0</td>\n",
              "      <td>0.0</td>\n",
              "      <td>2</td>\n",
              "      <td>2</td>\n",
              "      <td>3</td>\n",
              "      <td>4</td>\n",
              "      <td>2</td>\n",
              "      <td>5</td>\n",
              "      <td>5</td>\n",
              "      <td>5</td>\n",
              "      <td>4</td>\n",
              "      <td>4</td>\n",
              "      <td>5</td>\n",
              "      <td>2</td>\n",
              "      <td>5</td>\n",
              "      <td>5</td>\n",
              "      <td>Satisfied</td>\n",
              "    </tr>\n",
              "    <tr>\n",
              "      <th>4</th>\n",
              "      <td>5</td>\n",
              "      <td>49</td>\n",
              "      <td>3470</td>\n",
              "      <td>0</td>\n",
              "      <td>1.0</td>\n",
              "      <td>3</td>\n",
              "      <td>3</td>\n",
              "      <td>3</td>\n",
              "      <td>5</td>\n",
              "      <td>3</td>\n",
              "      <td>3</td>\n",
              "      <td>4</td>\n",
              "      <td>4</td>\n",
              "      <td>5</td>\n",
              "      <td>4</td>\n",
              "      <td>3</td>\n",
              "      <td>3</td>\n",
              "      <td>3</td>\n",
              "      <td>3</td>\n",
              "      <td>Satisfied</td>\n",
              "    </tr>\n",
              "    <tr>\n",
              "      <th>...</th>\n",
              "      <td>...</td>\n",
              "      <td>...</td>\n",
              "      <td>...</td>\n",
              "      <td>...</td>\n",
              "      <td>...</td>\n",
              "      <td>...</td>\n",
              "      <td>...</td>\n",
              "      <td>...</td>\n",
              "      <td>...</td>\n",
              "      <td>...</td>\n",
              "      <td>...</td>\n",
              "      <td>...</td>\n",
              "      <td>...</td>\n",
              "      <td>...</td>\n",
              "      <td>...</td>\n",
              "      <td>...</td>\n",
              "      <td>...</td>\n",
              "      <td>...</td>\n",
              "      <td>...</td>\n",
              "      <td>...</td>\n",
              "    </tr>\n",
              "    <tr>\n",
              "      <th>129875</th>\n",
              "      <td>129876</td>\n",
              "      <td>28</td>\n",
              "      <td>447</td>\n",
              "      <td>2</td>\n",
              "      <td>3.0</td>\n",
              "      <td>4</td>\n",
              "      <td>4</td>\n",
              "      <td>4</td>\n",
              "      <td>4</td>\n",
              "      <td>2</td>\n",
              "      <td>5</td>\n",
              "      <td>1</td>\n",
              "      <td>4</td>\n",
              "      <td>4</td>\n",
              "      <td>4</td>\n",
              "      <td>5</td>\n",
              "      <td>4</td>\n",
              "      <td>4</td>\n",
              "      <td>4</td>\n",
              "      <td>Neutral or Dissatisfied</td>\n",
              "    </tr>\n",
              "    <tr>\n",
              "      <th>129876</th>\n",
              "      <td>129877</td>\n",
              "      <td>41</td>\n",
              "      <td>308</td>\n",
              "      <td>0</td>\n",
              "      <td>0.0</td>\n",
              "      <td>5</td>\n",
              "      <td>3</td>\n",
              "      <td>5</td>\n",
              "      <td>3</td>\n",
              "      <td>4</td>\n",
              "      <td>5</td>\n",
              "      <td>2</td>\n",
              "      <td>5</td>\n",
              "      <td>2</td>\n",
              "      <td>2</td>\n",
              "      <td>4</td>\n",
              "      <td>3</td>\n",
              "      <td>2</td>\n",
              "      <td>5</td>\n",
              "      <td>Neutral or Dissatisfied</td>\n",
              "    </tr>\n",
              "    <tr>\n",
              "      <th>129877</th>\n",
              "      <td>129878</td>\n",
              "      <td>42</td>\n",
              "      <td>337</td>\n",
              "      <td>6</td>\n",
              "      <td>14.0</td>\n",
              "      <td>5</td>\n",
              "      <td>2</td>\n",
              "      <td>4</td>\n",
              "      <td>2</td>\n",
              "      <td>1</td>\n",
              "      <td>3</td>\n",
              "      <td>3</td>\n",
              "      <td>4</td>\n",
              "      <td>3</td>\n",
              "      <td>3</td>\n",
              "      <td>4</td>\n",
              "      <td>2</td>\n",
              "      <td>3</td>\n",
              "      <td>5</td>\n",
              "      <td>Neutral or Dissatisfied</td>\n",
              "    </tr>\n",
              "    <tr>\n",
              "      <th>129878</th>\n",
              "      <td>129879</td>\n",
              "      <td>50</td>\n",
              "      <td>337</td>\n",
              "      <td>31</td>\n",
              "      <td>22.0</td>\n",
              "      <td>4</td>\n",
              "      <td>4</td>\n",
              "      <td>3</td>\n",
              "      <td>4</td>\n",
              "      <td>1</td>\n",
              "      <td>4</td>\n",
              "      <td>4</td>\n",
              "      <td>5</td>\n",
              "      <td>3</td>\n",
              "      <td>3</td>\n",
              "      <td>4</td>\n",
              "      <td>5</td>\n",
              "      <td>3</td>\n",
              "      <td>5</td>\n",
              "      <td>Satisfied</td>\n",
              "    </tr>\n",
              "    <tr>\n",
              "      <th>129879</th>\n",
              "      <td>129880</td>\n",
              "      <td>20</td>\n",
              "      <td>337</td>\n",
              "      <td>0</td>\n",
              "      <td>0.0</td>\n",
              "      <td>1</td>\n",
              "      <td>3</td>\n",
              "      <td>4</td>\n",
              "      <td>3</td>\n",
              "      <td>2</td>\n",
              "      <td>4</td>\n",
              "      <td>2</td>\n",
              "      <td>4</td>\n",
              "      <td>2</td>\n",
              "      <td>2</td>\n",
              "      <td>2</td>\n",
              "      <td>3</td>\n",
              "      <td>2</td>\n",
              "      <td>1</td>\n",
              "      <td>Neutral or Dissatisfied</td>\n",
              "    </tr>\n",
              "  </tbody>\n",
              "</table>\n",
              "<p>129880 rows × 20 columns</p>\n",
              "</div>\n",
              "      <button class=\"colab-df-convert\" onclick=\"convertToInteractive('df-4bf2cc10-fa0c-4c2c-ae4b-4ce7e7bd42d2')\"\n",
              "              title=\"Convert this dataframe to an interactive table.\"\n",
              "              style=\"display:none;\">\n",
              "        \n",
              "  <svg xmlns=\"http://www.w3.org/2000/svg\" height=\"24px\"viewBox=\"0 0 24 24\"\n",
              "       width=\"24px\">\n",
              "    <path d=\"M0 0h24v24H0V0z\" fill=\"none\"/>\n",
              "    <path d=\"M18.56 5.44l.94 2.06.94-2.06 2.06-.94-2.06-.94-.94-2.06-.94 2.06-2.06.94zm-11 1L8.5 8.5l.94-2.06 2.06-.94-2.06-.94L8.5 2.5l-.94 2.06-2.06.94zm10 10l.94 2.06.94-2.06 2.06-.94-2.06-.94-.94-2.06-.94 2.06-2.06.94z\"/><path d=\"M17.41 7.96l-1.37-1.37c-.4-.4-.92-.59-1.43-.59-.52 0-1.04.2-1.43.59L10.3 9.45l-7.72 7.72c-.78.78-.78 2.05 0 2.83L4 21.41c.39.39.9.59 1.41.59.51 0 1.02-.2 1.41-.59l7.78-7.78 2.81-2.81c.8-.78.8-2.07 0-2.86zM5.41 20L4 18.59l7.72-7.72 1.47 1.35L5.41 20z\"/>\n",
              "  </svg>\n",
              "      </button>\n",
              "      \n",
              "  <style>\n",
              "    .colab-df-container {\n",
              "      display:flex;\n",
              "      flex-wrap:wrap;\n",
              "      gap: 12px;\n",
              "    }\n",
              "\n",
              "    .colab-df-convert {\n",
              "      background-color: #E8F0FE;\n",
              "      border: none;\n",
              "      border-radius: 50%;\n",
              "      cursor: pointer;\n",
              "      display: none;\n",
              "      fill: #1967D2;\n",
              "      height: 32px;\n",
              "      padding: 0 0 0 0;\n",
              "      width: 32px;\n",
              "    }\n",
              "\n",
              "    .colab-df-convert:hover {\n",
              "      background-color: #E2EBFA;\n",
              "      box-shadow: 0px 1px 2px rgba(60, 64, 67, 0.3), 0px 1px 3px 1px rgba(60, 64, 67, 0.15);\n",
              "      fill: #174EA6;\n",
              "    }\n",
              "\n",
              "    [theme=dark] .colab-df-convert {\n",
              "      background-color: #3B4455;\n",
              "      fill: #D2E3FC;\n",
              "    }\n",
              "\n",
              "    [theme=dark] .colab-df-convert:hover {\n",
              "      background-color: #434B5C;\n",
              "      box-shadow: 0px 1px 3px 1px rgba(0, 0, 0, 0.15);\n",
              "      filter: drop-shadow(0px 1px 2px rgba(0, 0, 0, 0.3));\n",
              "      fill: #FFFFFF;\n",
              "    }\n",
              "  </style>\n",
              "\n",
              "      <script>\n",
              "        const buttonEl =\n",
              "          document.querySelector('#df-4bf2cc10-fa0c-4c2c-ae4b-4ce7e7bd42d2 button.colab-df-convert');\n",
              "        buttonEl.style.display =\n",
              "          google.colab.kernel.accessAllowed ? 'block' : 'none';\n",
              "\n",
              "        async function convertToInteractive(key) {\n",
              "          const element = document.querySelector('#df-4bf2cc10-fa0c-4c2c-ae4b-4ce7e7bd42d2');\n",
              "          const dataTable =\n",
              "            await google.colab.kernel.invokeFunction('convertToInteractive',\n",
              "                                                     [key], {});\n",
              "          if (!dataTable) return;\n",
              "\n",
              "          const docLinkHtml = 'Like what you see? Visit the ' +\n",
              "            '<a target=\"_blank\" href=https://colab.research.google.com/notebooks/data_table.ipynb>data table notebook</a>'\n",
              "            + ' to learn more about interactive tables.';\n",
              "          element.innerHTML = '';\n",
              "          dataTable['output_type'] = 'display_data';\n",
              "          await google.colab.output.renderOutput(dataTable, element);\n",
              "          const docLink = document.createElement('div');\n",
              "          docLink.innerHTML = docLinkHtml;\n",
              "          element.appendChild(docLink);\n",
              "        }\n",
              "      </script>\n",
              "    </div>\n",
              "  </div>\n",
              "  "
            ]
          },
          "metadata": {},
          "execution_count": 7
        }
      ]
    },
    {
      "cell_type": "code",
      "source": [
        "Passenger_satisfaction.info()"
      ],
      "metadata": {
        "colab": {
          "base_uri": "https://localhost:8080/"
        },
        "id": "qJOnrtMs0Q2F",
        "outputId": "93989674-2b63-4d69-cde4-8d70bd6a8db9"
      },
      "execution_count": null,
      "outputs": [
        {
          "output_type": "stream",
          "name": "stdout",
          "text": [
            "<class 'pandas.core.frame.DataFrame'>\n",
            "RangeIndex: 129880 entries, 0 to 129879\n",
            "Data columns (total 20 columns):\n",
            " #   Column                                  Non-Null Count   Dtype  \n",
            "---  ------                                  --------------   -----  \n",
            " 0   ID                                      129880 non-null  int64  \n",
            " 1   Age                                     129880 non-null  int64  \n",
            " 2   Flight Distance                         129880 non-null  int64  \n",
            " 3   Departure Delay                         129880 non-null  int64  \n",
            " 4   Arrival Delay                           129487 non-null  float64\n",
            " 5   Departure and Arrival Time Convenience  129880 non-null  int64  \n",
            " 6   Ease of Online Booking                  129880 non-null  int64  \n",
            " 7   Check-in Service                        129880 non-null  int64  \n",
            " 8   Online Boarding                         129880 non-null  int64  \n",
            " 9   Gate Location                           129880 non-null  int64  \n",
            " 10  On-board Service                        129880 non-null  int64  \n",
            " 11  Seat Comfort                            129880 non-null  int64  \n",
            " 12  Leg Room Service                        129880 non-null  int64  \n",
            " 13  Cleanliness                             129880 non-null  int64  \n",
            " 14  Food and Drink                          129880 non-null  int64  \n",
            " 15  In-flight Service                       129880 non-null  int64  \n",
            " 16  In-flight Wifi Service                  129880 non-null  int64  \n",
            " 17  In-flight Entertainment                 129880 non-null  int64  \n",
            " 18  Baggage Handling                        129880 non-null  int64  \n",
            " 19  Satisfaction                            129880 non-null  object \n",
            "dtypes: float64(1), int64(18), object(1)\n",
            "memory usage: 19.8+ MB\n"
          ]
        }
      ]
    },
    {
      "cell_type": "markdown",
      "source": [
        "Then we turn the target feature 'Satisfaction' into a numerical one. \n"
      ],
      "metadata": {
        "id": "PZYUscPEoB87"
      }
    },
    {
      "cell_type": "code",
      "source": [
        "Passenger_satisfaction = Passenger_satisfaction.replace({\"Satisfaction\" : {'Neutral or Dissatisfied': 0, 'Satisfied' : 1 }})"
      ],
      "metadata": {
        "id": "VFMwLgUFnbWr"
      },
      "execution_count": null,
      "outputs": []
    },
    {
      "cell_type": "code",
      "source": [
        "Passenger_satisfaction"
      ],
      "metadata": {
        "colab": {
          "base_uri": "https://localhost:8080/",
          "height": 540
        },
        "id": "kCt6z0hypbLL",
        "outputId": "56b09b1b-4970-47de-d17e-5e0e3178a587"
      },
      "execution_count": null,
      "outputs": [
        {
          "output_type": "execute_result",
          "data": {
            "text/plain": [
              "            ID  Age  Flight Distance  Departure Delay  Arrival Delay  \\\n",
              "0            1   48              821                2            5.0   \n",
              "1            2   35              821               26           39.0   \n",
              "2            3   41              853                0            0.0   \n",
              "3            4   50             1905                0            0.0   \n",
              "4            5   49             3470                0            1.0   \n",
              "...        ...  ...              ...              ...            ...   \n",
              "129875  129876   28              447                2            3.0   \n",
              "129876  129877   41              308                0            0.0   \n",
              "129877  129878   42              337                6           14.0   \n",
              "129878  129879   50              337               31           22.0   \n",
              "129879  129880   20              337                0            0.0   \n",
              "\n",
              "        Departure and Arrival Time Convenience  Ease of Online Booking  \\\n",
              "0                                            3                       3   \n",
              "1                                            2                       2   \n",
              "2                                            4                       4   \n",
              "3                                            2                       2   \n",
              "4                                            3                       3   \n",
              "...                                        ...                     ...   \n",
              "129875                                       4                       4   \n",
              "129876                                       5                       3   \n",
              "129877                                       5                       2   \n",
              "129878                                       4                       4   \n",
              "129879                                       1                       3   \n",
              "\n",
              "        Check-in Service  Online Boarding  Gate Location  On-board Service  \\\n",
              "0                      4                3              3                 3   \n",
              "1                      3                5              2                 5   \n",
              "2                      4                5              4                 3   \n",
              "3                      3                4              2                 5   \n",
              "4                      3                5              3                 3   \n",
              "...                  ...              ...            ...               ...   \n",
              "129875                 4                4              2                 5   \n",
              "129876                 5                3              4                 5   \n",
              "129877                 4                2              1                 3   \n",
              "129878                 3                4              1                 4   \n",
              "129879                 4                3              2                 4   \n",
              "\n",
              "        Seat Comfort  Leg Room Service  Cleanliness  Food and Drink  \\\n",
              "0                  5                 2            5               5   \n",
              "1                  4                 5            5               3   \n",
              "2                  5                 3            5               5   \n",
              "3                  5                 5            4               4   \n",
              "4                  4                 4            5               4   \n",
              "...              ...               ...          ...             ...   \n",
              "129875             1                 4            4               4   \n",
              "129876             2                 5            2               2   \n",
              "129877             3                 4            3               3   \n",
              "129878             4                 5            3               3   \n",
              "129879             2                 4            2               2   \n",
              "\n",
              "        In-flight Service  In-flight Wifi Service  In-flight Entertainment  \\\n",
              "0                       5                       3                        5   \n",
              "1                       5                       2                        5   \n",
              "2                       3                       4                        3   \n",
              "3                       5                       2                        5   \n",
              "4                       3                       3                        3   \n",
              "...                   ...                     ...                      ...   \n",
              "129875                  5                       4                        4   \n",
              "129876                  4                       3                        2   \n",
              "129877                  4                       2                        3   \n",
              "129878                  4                       5                        3   \n",
              "129879                  2                       3                        2   \n",
              "\n",
              "        Baggage Handling  Satisfaction  \n",
              "0                      5             0  \n",
              "1                      5             1  \n",
              "2                      3             1  \n",
              "3                      5             1  \n",
              "4                      3             1  \n",
              "...                  ...           ...  \n",
              "129875                 4             0  \n",
              "129876                 5             0  \n",
              "129877                 5             0  \n",
              "129878                 5             1  \n",
              "129879                 1             0  \n",
              "\n",
              "[129880 rows x 20 columns]"
            ],
            "text/html": [
              "\n",
              "  <div id=\"df-e4b7811c-f6fc-4098-bc7a-bec5841e1aa7\">\n",
              "    <div class=\"colab-df-container\">\n",
              "      <div>\n",
              "<style scoped>\n",
              "    .dataframe tbody tr th:only-of-type {\n",
              "        vertical-align: middle;\n",
              "    }\n",
              "\n",
              "    .dataframe tbody tr th {\n",
              "        vertical-align: top;\n",
              "    }\n",
              "\n",
              "    .dataframe thead th {\n",
              "        text-align: right;\n",
              "    }\n",
              "</style>\n",
              "<table border=\"1\" class=\"dataframe\">\n",
              "  <thead>\n",
              "    <tr style=\"text-align: right;\">\n",
              "      <th></th>\n",
              "      <th>ID</th>\n",
              "      <th>Age</th>\n",
              "      <th>Flight Distance</th>\n",
              "      <th>Departure Delay</th>\n",
              "      <th>Arrival Delay</th>\n",
              "      <th>Departure and Arrival Time Convenience</th>\n",
              "      <th>Ease of Online Booking</th>\n",
              "      <th>Check-in Service</th>\n",
              "      <th>Online Boarding</th>\n",
              "      <th>Gate Location</th>\n",
              "      <th>On-board Service</th>\n",
              "      <th>Seat Comfort</th>\n",
              "      <th>Leg Room Service</th>\n",
              "      <th>Cleanliness</th>\n",
              "      <th>Food and Drink</th>\n",
              "      <th>In-flight Service</th>\n",
              "      <th>In-flight Wifi Service</th>\n",
              "      <th>In-flight Entertainment</th>\n",
              "      <th>Baggage Handling</th>\n",
              "      <th>Satisfaction</th>\n",
              "    </tr>\n",
              "  </thead>\n",
              "  <tbody>\n",
              "    <tr>\n",
              "      <th>0</th>\n",
              "      <td>1</td>\n",
              "      <td>48</td>\n",
              "      <td>821</td>\n",
              "      <td>2</td>\n",
              "      <td>5.0</td>\n",
              "      <td>3</td>\n",
              "      <td>3</td>\n",
              "      <td>4</td>\n",
              "      <td>3</td>\n",
              "      <td>3</td>\n",
              "      <td>3</td>\n",
              "      <td>5</td>\n",
              "      <td>2</td>\n",
              "      <td>5</td>\n",
              "      <td>5</td>\n",
              "      <td>5</td>\n",
              "      <td>3</td>\n",
              "      <td>5</td>\n",
              "      <td>5</td>\n",
              "      <td>0</td>\n",
              "    </tr>\n",
              "    <tr>\n",
              "      <th>1</th>\n",
              "      <td>2</td>\n",
              "      <td>35</td>\n",
              "      <td>821</td>\n",
              "      <td>26</td>\n",
              "      <td>39.0</td>\n",
              "      <td>2</td>\n",
              "      <td>2</td>\n",
              "      <td>3</td>\n",
              "      <td>5</td>\n",
              "      <td>2</td>\n",
              "      <td>5</td>\n",
              "      <td>4</td>\n",
              "      <td>5</td>\n",
              "      <td>5</td>\n",
              "      <td>3</td>\n",
              "      <td>5</td>\n",
              "      <td>2</td>\n",
              "      <td>5</td>\n",
              "      <td>5</td>\n",
              "      <td>1</td>\n",
              "    </tr>\n",
              "    <tr>\n",
              "      <th>2</th>\n",
              "      <td>3</td>\n",
              "      <td>41</td>\n",
              "      <td>853</td>\n",
              "      <td>0</td>\n",
              "      <td>0.0</td>\n",
              "      <td>4</td>\n",
              "      <td>4</td>\n",
              "      <td>4</td>\n",
              "      <td>5</td>\n",
              "      <td>4</td>\n",
              "      <td>3</td>\n",
              "      <td>5</td>\n",
              "      <td>3</td>\n",
              "      <td>5</td>\n",
              "      <td>5</td>\n",
              "      <td>3</td>\n",
              "      <td>4</td>\n",
              "      <td>3</td>\n",
              "      <td>3</td>\n",
              "      <td>1</td>\n",
              "    </tr>\n",
              "    <tr>\n",
              "      <th>3</th>\n",
              "      <td>4</td>\n",
              "      <td>50</td>\n",
              "      <td>1905</td>\n",
              "      <td>0</td>\n",
              "      <td>0.0</td>\n",
              "      <td>2</td>\n",
              "      <td>2</td>\n",
              "      <td>3</td>\n",
              "      <td>4</td>\n",
              "      <td>2</td>\n",
              "      <td>5</td>\n",
              "      <td>5</td>\n",
              "      <td>5</td>\n",
              "      <td>4</td>\n",
              "      <td>4</td>\n",
              "      <td>5</td>\n",
              "      <td>2</td>\n",
              "      <td>5</td>\n",
              "      <td>5</td>\n",
              "      <td>1</td>\n",
              "    </tr>\n",
              "    <tr>\n",
              "      <th>4</th>\n",
              "      <td>5</td>\n",
              "      <td>49</td>\n",
              "      <td>3470</td>\n",
              "      <td>0</td>\n",
              "      <td>1.0</td>\n",
              "      <td>3</td>\n",
              "      <td>3</td>\n",
              "      <td>3</td>\n",
              "      <td>5</td>\n",
              "      <td>3</td>\n",
              "      <td>3</td>\n",
              "      <td>4</td>\n",
              "      <td>4</td>\n",
              "      <td>5</td>\n",
              "      <td>4</td>\n",
              "      <td>3</td>\n",
              "      <td>3</td>\n",
              "      <td>3</td>\n",
              "      <td>3</td>\n",
              "      <td>1</td>\n",
              "    </tr>\n",
              "    <tr>\n",
              "      <th>...</th>\n",
              "      <td>...</td>\n",
              "      <td>...</td>\n",
              "      <td>...</td>\n",
              "      <td>...</td>\n",
              "      <td>...</td>\n",
              "      <td>...</td>\n",
              "      <td>...</td>\n",
              "      <td>...</td>\n",
              "      <td>...</td>\n",
              "      <td>...</td>\n",
              "      <td>...</td>\n",
              "      <td>...</td>\n",
              "      <td>...</td>\n",
              "      <td>...</td>\n",
              "      <td>...</td>\n",
              "      <td>...</td>\n",
              "      <td>...</td>\n",
              "      <td>...</td>\n",
              "      <td>...</td>\n",
              "      <td>...</td>\n",
              "    </tr>\n",
              "    <tr>\n",
              "      <th>129875</th>\n",
              "      <td>129876</td>\n",
              "      <td>28</td>\n",
              "      <td>447</td>\n",
              "      <td>2</td>\n",
              "      <td>3.0</td>\n",
              "      <td>4</td>\n",
              "      <td>4</td>\n",
              "      <td>4</td>\n",
              "      <td>4</td>\n",
              "      <td>2</td>\n",
              "      <td>5</td>\n",
              "      <td>1</td>\n",
              "      <td>4</td>\n",
              "      <td>4</td>\n",
              "      <td>4</td>\n",
              "      <td>5</td>\n",
              "      <td>4</td>\n",
              "      <td>4</td>\n",
              "      <td>4</td>\n",
              "      <td>0</td>\n",
              "    </tr>\n",
              "    <tr>\n",
              "      <th>129876</th>\n",
              "      <td>129877</td>\n",
              "      <td>41</td>\n",
              "      <td>308</td>\n",
              "      <td>0</td>\n",
              "      <td>0.0</td>\n",
              "      <td>5</td>\n",
              "      <td>3</td>\n",
              "      <td>5</td>\n",
              "      <td>3</td>\n",
              "      <td>4</td>\n",
              "      <td>5</td>\n",
              "      <td>2</td>\n",
              "      <td>5</td>\n",
              "      <td>2</td>\n",
              "      <td>2</td>\n",
              "      <td>4</td>\n",
              "      <td>3</td>\n",
              "      <td>2</td>\n",
              "      <td>5</td>\n",
              "      <td>0</td>\n",
              "    </tr>\n",
              "    <tr>\n",
              "      <th>129877</th>\n",
              "      <td>129878</td>\n",
              "      <td>42</td>\n",
              "      <td>337</td>\n",
              "      <td>6</td>\n",
              "      <td>14.0</td>\n",
              "      <td>5</td>\n",
              "      <td>2</td>\n",
              "      <td>4</td>\n",
              "      <td>2</td>\n",
              "      <td>1</td>\n",
              "      <td>3</td>\n",
              "      <td>3</td>\n",
              "      <td>4</td>\n",
              "      <td>3</td>\n",
              "      <td>3</td>\n",
              "      <td>4</td>\n",
              "      <td>2</td>\n",
              "      <td>3</td>\n",
              "      <td>5</td>\n",
              "      <td>0</td>\n",
              "    </tr>\n",
              "    <tr>\n",
              "      <th>129878</th>\n",
              "      <td>129879</td>\n",
              "      <td>50</td>\n",
              "      <td>337</td>\n",
              "      <td>31</td>\n",
              "      <td>22.0</td>\n",
              "      <td>4</td>\n",
              "      <td>4</td>\n",
              "      <td>3</td>\n",
              "      <td>4</td>\n",
              "      <td>1</td>\n",
              "      <td>4</td>\n",
              "      <td>4</td>\n",
              "      <td>5</td>\n",
              "      <td>3</td>\n",
              "      <td>3</td>\n",
              "      <td>4</td>\n",
              "      <td>5</td>\n",
              "      <td>3</td>\n",
              "      <td>5</td>\n",
              "      <td>1</td>\n",
              "    </tr>\n",
              "    <tr>\n",
              "      <th>129879</th>\n",
              "      <td>129880</td>\n",
              "      <td>20</td>\n",
              "      <td>337</td>\n",
              "      <td>0</td>\n",
              "      <td>0.0</td>\n",
              "      <td>1</td>\n",
              "      <td>3</td>\n",
              "      <td>4</td>\n",
              "      <td>3</td>\n",
              "      <td>2</td>\n",
              "      <td>4</td>\n",
              "      <td>2</td>\n",
              "      <td>4</td>\n",
              "      <td>2</td>\n",
              "      <td>2</td>\n",
              "      <td>2</td>\n",
              "      <td>3</td>\n",
              "      <td>2</td>\n",
              "      <td>1</td>\n",
              "      <td>0</td>\n",
              "    </tr>\n",
              "  </tbody>\n",
              "</table>\n",
              "<p>129880 rows × 20 columns</p>\n",
              "</div>\n",
              "      <button class=\"colab-df-convert\" onclick=\"convertToInteractive('df-e4b7811c-f6fc-4098-bc7a-bec5841e1aa7')\"\n",
              "              title=\"Convert this dataframe to an interactive table.\"\n",
              "              style=\"display:none;\">\n",
              "        \n",
              "  <svg xmlns=\"http://www.w3.org/2000/svg\" height=\"24px\"viewBox=\"0 0 24 24\"\n",
              "       width=\"24px\">\n",
              "    <path d=\"M0 0h24v24H0V0z\" fill=\"none\"/>\n",
              "    <path d=\"M18.56 5.44l.94 2.06.94-2.06 2.06-.94-2.06-.94-.94-2.06-.94 2.06-2.06.94zm-11 1L8.5 8.5l.94-2.06 2.06-.94-2.06-.94L8.5 2.5l-.94 2.06-2.06.94zm10 10l.94 2.06.94-2.06 2.06-.94-2.06-.94-.94-2.06-.94 2.06-2.06.94z\"/><path d=\"M17.41 7.96l-1.37-1.37c-.4-.4-.92-.59-1.43-.59-.52 0-1.04.2-1.43.59L10.3 9.45l-7.72 7.72c-.78.78-.78 2.05 0 2.83L4 21.41c.39.39.9.59 1.41.59.51 0 1.02-.2 1.41-.59l7.78-7.78 2.81-2.81c.8-.78.8-2.07 0-2.86zM5.41 20L4 18.59l7.72-7.72 1.47 1.35L5.41 20z\"/>\n",
              "  </svg>\n",
              "      </button>\n",
              "      \n",
              "  <style>\n",
              "    .colab-df-container {\n",
              "      display:flex;\n",
              "      flex-wrap:wrap;\n",
              "      gap: 12px;\n",
              "    }\n",
              "\n",
              "    .colab-df-convert {\n",
              "      background-color: #E8F0FE;\n",
              "      border: none;\n",
              "      border-radius: 50%;\n",
              "      cursor: pointer;\n",
              "      display: none;\n",
              "      fill: #1967D2;\n",
              "      height: 32px;\n",
              "      padding: 0 0 0 0;\n",
              "      width: 32px;\n",
              "    }\n",
              "\n",
              "    .colab-df-convert:hover {\n",
              "      background-color: #E2EBFA;\n",
              "      box-shadow: 0px 1px 2px rgba(60, 64, 67, 0.3), 0px 1px 3px 1px rgba(60, 64, 67, 0.15);\n",
              "      fill: #174EA6;\n",
              "    }\n",
              "\n",
              "    [theme=dark] .colab-df-convert {\n",
              "      background-color: #3B4455;\n",
              "      fill: #D2E3FC;\n",
              "    }\n",
              "\n",
              "    [theme=dark] .colab-df-convert:hover {\n",
              "      background-color: #434B5C;\n",
              "      box-shadow: 0px 1px 3px 1px rgba(0, 0, 0, 0.15);\n",
              "      filter: drop-shadow(0px 1px 2px rgba(0, 0, 0, 0.3));\n",
              "      fill: #FFFFFF;\n",
              "    }\n",
              "  </style>\n",
              "\n",
              "      <script>\n",
              "        const buttonEl =\n",
              "          document.querySelector('#df-e4b7811c-f6fc-4098-bc7a-bec5841e1aa7 button.colab-df-convert');\n",
              "        buttonEl.style.display =\n",
              "          google.colab.kernel.accessAllowed ? 'block' : 'none';\n",
              "\n",
              "        async function convertToInteractive(key) {\n",
              "          const element = document.querySelector('#df-e4b7811c-f6fc-4098-bc7a-bec5841e1aa7');\n",
              "          const dataTable =\n",
              "            await google.colab.kernel.invokeFunction('convertToInteractive',\n",
              "                                                     [key], {});\n",
              "          if (!dataTable) return;\n",
              "\n",
              "          const docLinkHtml = 'Like what you see? Visit the ' +\n",
              "            '<a target=\"_blank\" href=https://colab.research.google.com/notebooks/data_table.ipynb>data table notebook</a>'\n",
              "            + ' to learn more about interactive tables.';\n",
              "          element.innerHTML = '';\n",
              "          dataTable['output_type'] = 'display_data';\n",
              "          await google.colab.output.renderOutput(dataTable, element);\n",
              "          const docLink = document.createElement('div');\n",
              "          docLink.innerHTML = docLinkHtml;\n",
              "          element.appendChild(docLink);\n",
              "        }\n",
              "      </script>\n",
              "    </div>\n",
              "  </div>\n",
              "  "
            ]
          },
          "metadata": {},
          "execution_count": 10
        }
      ]
    },
    {
      "cell_type": "code",
      "source": [
        "import numpy as np "
      ],
      "metadata": {
        "id": "rRkan_y3pr11"
      },
      "execution_count": null,
      "outputs": []
    },
    {
      "cell_type": "code",
      "source": [
        "print(np.array(np.unique(Passenger_satisfaction.Satisfaction, return_counts=True)))"
      ],
      "metadata": {
        "colab": {
          "base_uri": "https://localhost:8080/"
        },
        "id": "Z8OQ9k8bppzV",
        "outputId": "4cc1950f-f1e1-44b1-919b-929893e78148"
      },
      "execution_count": null,
      "outputs": [
        {
          "output_type": "stream",
          "name": "stdout",
          "text": [
            "[[    0     1]\n",
            " [73452 56428]]\n"
          ]
        }
      ]
    },
    {
      "cell_type": "markdown",
      "source": [
        "In the last line of code we could see that we have 73452 clients neutral or dissatisfied opposite to 56428 clients satisfied. The target feature is imbalanced, but not to a serious extent."
      ],
      "metadata": {
        "id": "YlGEqbmKXlgU"
      }
    },
    {
      "cell_type": "markdown",
      "source": [
        "Firstly we train the Model using all the Features.\n",
        "\n",
        "Before we perform PCA on the dataset, let’s use logistic regression to train a model using all the 20 features in the dataset and see how well it performs."
      ],
      "metadata": {
        "id": "IrVjF_Jyx3_7"
      }
    },
    {
      "cell_type": "markdown",
      "source": [
        "Before apply our logistic regression We fix the Nan, infinity and too large values."
      ],
      "metadata": {
        "id": "OovAIn8_6PkP"
      }
    },
    {
      "cell_type": "code",
      "source": [
        "Passenger_satisfaction = Passenger_satisfaction.replace([np.inf, -np.inf], np.nan)\n",
        "Passenger_satisfaction = Passenger_satisfaction.dropna()\n",
        "Passenger_satisfaction= Passenger_satisfaction.reset_index()"
      ],
      "metadata": {
        "id": "PjFACktO35Qa"
      },
      "execution_count": null,
      "outputs": []
    },
    {
      "cell_type": "markdown",
      "source": [
        "Now we can apply our logistic regression model."
      ],
      "metadata": {
        "id": "LX3m8LOZ_Crf"
      }
    },
    {
      "cell_type": "code",
      "source": [
        "from sklearn.linear_model import LogisticRegression\n",
        "from sklearn.model_selection import train_test_split\n",
        "X = Passenger_satisfaction.iloc[:,:-1]      \n",
        "y = Passenger_satisfaction.iloc[:,-1]\n",
        "#---perform a split---\n",
        "random_state = 12\n",
        "X_train, X_test, y_train, y_test = \\\n",
        "    train_test_split(X, y,\n",
        "                     test_size = 0.3,\n",
        "                     shuffle = True,\n",
        "                     random_state=random_state)\n",
        "#---train the model using Logistic Regression---\n",
        "log_reg = LogisticRegression(max_iter = 5000)\n",
        "log_reg.fit(X_train, y_train)\n",
        "#---evaluate the model---\n",
        "log_reg.score(X_test,y_test)"
      ],
      "metadata": {
        "colab": {
          "base_uri": "https://localhost:8080/"
        },
        "id": "an49PwN-2y9s",
        "outputId": "1d79a3ea-f0cd-41fd-db6b-02be5d4cc7ca"
      },
      "execution_count": null,
      "outputs": [
        {
          "output_type": "execute_result",
          "data": {
            "text/plain": [
              "0.6337168893350837"
            ]
          },
          "metadata": {},
          "execution_count": 14
        }
      ]
    },
    {
      "cell_type": "markdown",
      "source": [
        "The accuracy for this model is: 0.6337168893350837"
      ],
      "metadata": {
        "id": "QX1lYtDD-m9V"
      }
    },
    {
      "cell_type": "markdown",
      "source": [
        "Training the Model using Reduced Features\n",
        "\n",
        "Now we want to remove the features that are least correlated to 'Satisfaction' and also those features that exhibit multicollinearity. The aim is to reduce the number of features and see if the accuracy of the model can be improved."
      ],
      "metadata": {
        "id": "P8gRmyKd-ySX"
      }
    },
    {
      "cell_type": "markdown",
      "source": [
        "Getting the Correlation Factors\n",
        "Let’s first get the correlation of each feature with respect to the target ('Satisfacton'):"
      ],
      "metadata": {
        "id": "1plaeBJCx2PA"
      }
    },
    {
      "cell_type": "code",
      "source": [
        "df_corr = Passenger_satisfaction.corr()['Satisfaction'].abs().sort_values(ascending=False)\n",
        "df_corr"
      ],
      "metadata": {
        "id": "NuCmC8h5-w11",
        "colab": {
          "base_uri": "https://localhost:8080/"
        },
        "outputId": "de81d5d1-03c7-4bf2-a455-0bcddb95c14b"
      },
      "execution_count": null,
      "outputs": [
        {
          "output_type": "execute_result",
          "data": {
            "text/plain": [
              "Satisfaction                              1.000000\n",
              "Online Boarding                           0.501620\n",
              "In-flight Entertainment                   0.398334\n",
              "Seat Comfort                              0.348576\n",
              "On-board Service                          0.322329\n",
              "Leg Room Service                          0.312557\n",
              "Cleanliness                               0.306891\n",
              "Flight Distance                           0.298206\n",
              "In-flight Wifi Service                    0.283291\n",
              "Baggage Handling                          0.248651\n",
              "In-flight Service                         0.245027\n",
              "Check-in Service                          0.237146\n",
              "Food and Drink                            0.211164\n",
              "Ease of Online Booking                    0.168704\n",
              "Age                                       0.134001\n",
              "Arrival Delay                             0.058275\n",
              "Departure and Arrival Time Convenience    0.054457\n",
              "Departure Delay                           0.051032\n",
              "index                                     0.012990\n",
              "ID                                        0.012990\n",
              "Gate Location                             0.002923\n",
              "Name: Satisfaction, dtype: float64"
            ]
          },
          "metadata": {},
          "execution_count": 15
        }
      ]
    },
    {
      "cell_type": "markdown",
      "source": [
        "Then we fix our correlation level to 0.3 or higher and extract all those features that match."
      ],
      "metadata": {
        "id": "H006Rx1RyZWq"
      }
    },
    {
      "cell_type": "code",
      "source": [
        "# get all the features that has at least 0.3 in correlation to the \n",
        "# target\n",
        "features = df_corr[df_corr > 0.3].index.to_list()[1:]\n",
        "features                          # without the 'Satisfaction' column"
      ],
      "metadata": {
        "colab": {
          "base_uri": "https://localhost:8080/"
        },
        "id": "HFWjmttKzR0Q",
        "outputId": "3d60521b-131c-4cce-edf6-4980fd952e27"
      },
      "execution_count": null,
      "outputs": [
        {
          "output_type": "execute_result",
          "data": {
            "text/plain": [
              "['Online Boarding',\n",
              " 'In-flight Entertainment',\n",
              " 'Seat Comfort',\n",
              " 'On-board Service',\n",
              " 'Leg Room Service',\n",
              " 'Cleanliness']"
            ]
          },
          "metadata": {},
          "execution_count": 16
        }
      ]
    },
    {
      "cell_type": "markdown",
      "source": [
        "Checking for MultiCollinearity\n",
        "Let’s remove those features that exhibits multi-collinearity:"
      ],
      "metadata": {
        "id": "PHjBpuJ-zyIO"
      }
    },
    {
      "cell_type": "code",
      "source": [
        "import pandas as pd\n",
        "from sklearn.linear_model import LinearRegression\n",
        "def calculate_vif(df, features):    \n",
        "    vif, tolerance = {}, {}\n",
        "    # all the features that you want to examine\n",
        "    for feature in features:\n",
        "        # extract all the other features you will regress against\n",
        "        X = [f for f in features if f != feature]        \n",
        "        X, y = df[X], df[feature]\n",
        "        # extract r-squared from the fit\n",
        "        r2 = LinearRegression().fit(X, y).score(X, y)                \n",
        "        \n",
        "        # calculate tolerance\n",
        "        tolerance[feature] = 1 - r2\n",
        "        # calculate VIF\n",
        "        vif[feature] = 1/(tolerance[feature])\n",
        "    # return VIF DataFrame\n",
        "    return pd.DataFrame({'VIF': vif, 'Tolerance': tolerance})\n",
        "calculate_vif(Passenger_satisfaction,features)"
      ],
      "metadata": {
        "colab": {
          "base_uri": "https://localhost:8080/",
          "height": 238
        },
        "id": "-i1ZFIvEz09C",
        "outputId": "51b85db1-b815-4ae9-de37-b4930adf631d"
      },
      "execution_count": null,
      "outputs": [
        {
          "output_type": "execute_result",
          "data": {
            "text/plain": [
              "                              VIF  Tolerance\n",
              "Online Boarding          1.240738   0.805972\n",
              "In-flight Entertainment  2.760189   0.362294\n",
              "Seat Comfort             2.184252   0.457823\n",
              "On-board Service         1.394942   0.716875\n",
              "Leg Room Service         1.201541   0.832264\n",
              "Cleanliness              2.541888   0.393408"
            ],
            "text/html": [
              "\n",
              "  <div id=\"df-ee634240-4c74-4bc5-9a13-a36b98b79625\">\n",
              "    <div class=\"colab-df-container\">\n",
              "      <div>\n",
              "<style scoped>\n",
              "    .dataframe tbody tr th:only-of-type {\n",
              "        vertical-align: middle;\n",
              "    }\n",
              "\n",
              "    .dataframe tbody tr th {\n",
              "        vertical-align: top;\n",
              "    }\n",
              "\n",
              "    .dataframe thead th {\n",
              "        text-align: right;\n",
              "    }\n",
              "</style>\n",
              "<table border=\"1\" class=\"dataframe\">\n",
              "  <thead>\n",
              "    <tr style=\"text-align: right;\">\n",
              "      <th></th>\n",
              "      <th>VIF</th>\n",
              "      <th>Tolerance</th>\n",
              "    </tr>\n",
              "  </thead>\n",
              "  <tbody>\n",
              "    <tr>\n",
              "      <th>Online Boarding</th>\n",
              "      <td>1.240738</td>\n",
              "      <td>0.805972</td>\n",
              "    </tr>\n",
              "    <tr>\n",
              "      <th>In-flight Entertainment</th>\n",
              "      <td>2.760189</td>\n",
              "      <td>0.362294</td>\n",
              "    </tr>\n",
              "    <tr>\n",
              "      <th>Seat Comfort</th>\n",
              "      <td>2.184252</td>\n",
              "      <td>0.457823</td>\n",
              "    </tr>\n",
              "    <tr>\n",
              "      <th>On-board Service</th>\n",
              "      <td>1.394942</td>\n",
              "      <td>0.716875</td>\n",
              "    </tr>\n",
              "    <tr>\n",
              "      <th>Leg Room Service</th>\n",
              "      <td>1.201541</td>\n",
              "      <td>0.832264</td>\n",
              "    </tr>\n",
              "    <tr>\n",
              "      <th>Cleanliness</th>\n",
              "      <td>2.541888</td>\n",
              "      <td>0.393408</td>\n",
              "    </tr>\n",
              "  </tbody>\n",
              "</table>\n",
              "</div>\n",
              "      <button class=\"colab-df-convert\" onclick=\"convertToInteractive('df-ee634240-4c74-4bc5-9a13-a36b98b79625')\"\n",
              "              title=\"Convert this dataframe to an interactive table.\"\n",
              "              style=\"display:none;\">\n",
              "        \n",
              "  <svg xmlns=\"http://www.w3.org/2000/svg\" height=\"24px\"viewBox=\"0 0 24 24\"\n",
              "       width=\"24px\">\n",
              "    <path d=\"M0 0h24v24H0V0z\" fill=\"none\"/>\n",
              "    <path d=\"M18.56 5.44l.94 2.06.94-2.06 2.06-.94-2.06-.94-.94-2.06-.94 2.06-2.06.94zm-11 1L8.5 8.5l.94-2.06 2.06-.94-2.06-.94L8.5 2.5l-.94 2.06-2.06.94zm10 10l.94 2.06.94-2.06 2.06-.94-2.06-.94-.94-2.06-.94 2.06-2.06.94z\"/><path d=\"M17.41 7.96l-1.37-1.37c-.4-.4-.92-.59-1.43-.59-.52 0-1.04.2-1.43.59L10.3 9.45l-7.72 7.72c-.78.78-.78 2.05 0 2.83L4 21.41c.39.39.9.59 1.41.59.51 0 1.02-.2 1.41-.59l7.78-7.78 2.81-2.81c.8-.78.8-2.07 0-2.86zM5.41 20L4 18.59l7.72-7.72 1.47 1.35L5.41 20z\"/>\n",
              "  </svg>\n",
              "      </button>\n",
              "      \n",
              "  <style>\n",
              "    .colab-df-container {\n",
              "      display:flex;\n",
              "      flex-wrap:wrap;\n",
              "      gap: 12px;\n",
              "    }\n",
              "\n",
              "    .colab-df-convert {\n",
              "      background-color: #E8F0FE;\n",
              "      border: none;\n",
              "      border-radius: 50%;\n",
              "      cursor: pointer;\n",
              "      display: none;\n",
              "      fill: #1967D2;\n",
              "      height: 32px;\n",
              "      padding: 0 0 0 0;\n",
              "      width: 32px;\n",
              "    }\n",
              "\n",
              "    .colab-df-convert:hover {\n",
              "      background-color: #E2EBFA;\n",
              "      box-shadow: 0px 1px 2px rgba(60, 64, 67, 0.3), 0px 1px 3px 1px rgba(60, 64, 67, 0.15);\n",
              "      fill: #174EA6;\n",
              "    }\n",
              "\n",
              "    [theme=dark] .colab-df-convert {\n",
              "      background-color: #3B4455;\n",
              "      fill: #D2E3FC;\n",
              "    }\n",
              "\n",
              "    [theme=dark] .colab-df-convert:hover {\n",
              "      background-color: #434B5C;\n",
              "      box-shadow: 0px 1px 3px 1px rgba(0, 0, 0, 0.15);\n",
              "      filter: drop-shadow(0px 1px 2px rgba(0, 0, 0, 0.3));\n",
              "      fill: #FFFFFF;\n",
              "    }\n",
              "  </style>\n",
              "\n",
              "      <script>\n",
              "        const buttonEl =\n",
              "          document.querySelector('#df-ee634240-4c74-4bc5-9a13-a36b98b79625 button.colab-df-convert');\n",
              "        buttonEl.style.display =\n",
              "          google.colab.kernel.accessAllowed ? 'block' : 'none';\n",
              "\n",
              "        async function convertToInteractive(key) {\n",
              "          const element = document.querySelector('#df-ee634240-4c74-4bc5-9a13-a36b98b79625');\n",
              "          const dataTable =\n",
              "            await google.colab.kernel.invokeFunction('convertToInteractive',\n",
              "                                                     [key], {});\n",
              "          if (!dataTable) return;\n",
              "\n",
              "          const docLinkHtml = 'Like what you see? Visit the ' +\n",
              "            '<a target=\"_blank\" href=https://colab.research.google.com/notebooks/data_table.ipynb>data table notebook</a>'\n",
              "            + ' to learn more about interactive tables.';\n",
              "          element.innerHTML = '';\n",
              "          dataTable['output_type'] = 'display_data';\n",
              "          await google.colab.output.renderOutput(dataTable, element);\n",
              "          const docLink = document.createElement('div');\n",
              "          docLink.innerHTML = docLinkHtml;\n",
              "          element.appendChild(docLink);\n",
              "        }\n",
              "      </script>\n",
              "    </div>\n",
              "  </div>\n",
              "  "
            ]
          },
          "metadata": {},
          "execution_count": 17
        }
      ]
    },
    {
      "cell_type": "markdown",
      "source": [
        "A good practice would be remove those features that have VIF greater than 5, in our case we dont't have to remove any feature."
      ],
      "metadata": {
        "id": "ECAI-3BT0-Gt"
      }
    },
    {
      "cell_type": "markdown",
      "source": [
        "Training the Model\n",
        "With the 20 features reduced to 6, let’s now train the model using logistic regression:"
      ],
      "metadata": {
        "id": "WE7rP8_-2UR4"
      }
    },
    {
      "cell_type": "code",
      "source": [
        "from sklearn.linear_model import LogisticRegression\n",
        "from sklearn.model_selection import train_test_split\n",
        "X = Passenger_satisfaction.loc[:,features]            # get the reduced features in the \n",
        "                                  # dataframe\n",
        "y = Passenger_satisfaction.loc[:,'Satisfaction']\n",
        "# perform a split\n",
        "X_train, X_test, y_train, y_test = \\\n",
        "    train_test_split(X, y, \n",
        "                     test_size = 0.3,\n",
        "                     shuffle = True,                                                    \n",
        "                     random_state=random_state)\n",
        "log_reg = LogisticRegression()\n",
        "log_reg.fit(X_train, y_train)\n",
        "log_reg.score(X_test,y_test)"
      ],
      "metadata": {
        "colab": {
          "base_uri": "https://localhost:8080/"
        },
        "id": "UTLswbhp2Qaw",
        "outputId": "60396596-e789-4cd3-902e-107b61cbb363"
      },
      "execution_count": null,
      "outputs": [
        {
          "output_type": "execute_result",
          "data": {
            "text/plain": [
              "0.8071665765696193"
            ]
          },
          "metadata": {},
          "execution_count": 22
        }
      ]
    },
    {
      "cell_type": "markdown",
      "source": [
        "By reducing our model from 20 features to 6 we improve our accuracy +17,35% approx.\n",
        "\n",
        "(0.8071665765696193 - 0.6337168893350837)"
      ],
      "metadata": {
        "id": "pxGm0tab2s2x"
      }
    },
    {
      "cell_type": "markdown",
      "source": [
        "Time to PCA!\n",
        "\n",
        "Finally, let’s apply PCA to the dataset and see if a better model can be trained."
      ],
      "metadata": {
        "id": "7cr70X8e3iCO"
      }
    },
    {
      "cell_type": "markdown",
      "source": [
        "Performing Standard Scaling\n",
        "\n",
        "Remember that PCA is sensitive to scaling? So the first step is to perform a standard scaling on the 20 features:"
      ],
      "metadata": {
        "id": "Xb2n3vvH3vML"
      }
    },
    {
      "cell_type": "code",
      "source": [
        "from sklearn.preprocessing import StandardScaler\n",
        "# get the features and label from the original dataframe\n",
        "X = Passenger_satisfaction.iloc[:,:-1]\n",
        "y = Passenger_satisfaction.iloc[:,-1]\n",
        "# performing standardization\n",
        "sc = StandardScaler()\n",
        "X_scaled = sc.fit_transform(X)"
      ],
      "metadata": {
        "id": "2M2MW8e_31RL"
      },
      "execution_count": null,
      "outputs": []
    },
    {
      "cell_type": "markdown",
      "source": [
        "Applying Principal Component Analysis (PCA)"
      ],
      "metadata": {
        "id": "3LBgYU-I4ERf"
      }
    },
    {
      "cell_type": "markdown",
      "source": [
        "Initially  we don't determine the number of components and set the parameter as none."
      ],
      "metadata": {
        "id": "vp62aqlQ5WR-"
      }
    },
    {
      "cell_type": "code",
      "source": [
        "from sklearn.decomposition import PCA\n",
        "components = None\n",
        "pca = PCA(n_components = components)\n",
        "# perform PCA on the scaled data\n",
        "pca.fit(X_scaled)"
      ],
      "metadata": {
        "colab": {
          "base_uri": "https://localhost:8080/"
        },
        "id": "ANhfYMRP4FSe",
        "outputId": "44685f1c-8c22-412e-94a8-ed25ea70ee82"
      },
      "execution_count": null,
      "outputs": [
        {
          "output_type": "execute_result",
          "data": {
            "text/plain": [
              "PCA()"
            ]
          },
          "metadata": {},
          "execution_count": 24
        }
      ]
    },
    {
      "cell_type": "markdown",
      "source": [
        "Now we print out the explained variances:"
      ],
      "metadata": {
        "id": "IAvPR6zp6D0R"
      }
    },
    {
      "cell_type": "code",
      "source": [
        "# print the explained variances\n",
        "print(\"Variances (Percentage):\")\n",
        "print(pca.explained_variance_ratio_ * 100)\n",
        "print()"
      ],
      "metadata": {
        "colab": {
          "base_uri": "https://localhost:8080/"
        },
        "id": "UefDa7TX6EmU",
        "outputId": "80177d20-035c-40ec-b52f-2275159cfc3c"
      },
      "execution_count": null,
      "outputs": [
        {
          "output_type": "stream",
          "name": "stdout",
          "text": [
            "Variances (Percentage):\n",
            "[1.93888688e+01 1.18896756e+01 1.11674311e+01 9.95202495e+00\n",
            " 9.64356565e+00 6.12796055e+00 4.79087211e+00 4.65904907e+00\n",
            " 4.41029274e+00 3.44694422e+00 2.65031561e+00 2.38710544e+00\n",
            " 2.22492271e+00 1.83143612e+00 1.61636672e+00 1.46467076e+00\n",
            " 1.25681973e+00 9.19059508e-01 1.72618564e-01 1.28456770e-31]\n",
            "\n"
          ]
        }
      ]
    },
    {
      "cell_type": "markdown",
      "source": [
        "To visualize it in an easy way we print the cummulative variances:"
      ],
      "metadata": {
        "id": "aJRzqTXb4KAR"
      }
    },
    {
      "cell_type": "code",
      "source": [
        "print(\"Cumulative Variances (Percentage):\")\n",
        "print(pca.explained_variance_ratio_.cumsum() * 100)\n",
        "print()"
      ],
      "metadata": {
        "colab": {
          "base_uri": "https://localhost:8080/"
        },
        "id": "8omaEgeI6oPP",
        "outputId": "deebca52-b1d2-4f18-8cf9-75590cfa8195"
      },
      "execution_count": null,
      "outputs": [
        {
          "output_type": "stream",
          "name": "stdout",
          "text": [
            "Cumulative Variances (Percentage):\n",
            "[ 19.38886879  31.27854443  42.44597556  52.39800051  62.04156616\n",
            "  68.16952671  72.96039881  77.61944788  82.02974063  85.47668484\n",
            "  88.12700046  90.5141059   92.73902861  94.57046472  96.18683144\n",
            "  97.6515022   98.90832193  99.82738144 100.         100.        ]\n",
            "\n"
          ]
        }
      ]
    },
    {
      "cell_type": "markdown",
      "source": [
        "How we can interpret this cumulative variances? \n",
        "\n",
        "The first component alone captures about 19,39% variability in the data, the first two components capture about 31,28% variability in the data and so on.\n",
        "\n",
        "In this case the first 10 components together capture about 85,48% variability in the data."
      ],
      "metadata": {
        "id": "u31TsalJ6y9n"
      }
    },
    {
      "cell_type": "markdown",
      "source": [
        "A visual way to view the cumulative variances is also to plot a scree plot.\n",
        "\n",
        "The scree plot makes it easy for you to visualize the number of components that are needed to capture the various amount of variability in the data:"
      ],
      "metadata": {
        "id": "MGNQ0XRO9MPj"
      }
    },
    {
      "cell_type": "code",
      "source": [
        "from matplotlib import pyplot as plt"
      ],
      "metadata": {
        "id": "l7GVknD19Aai"
      },
      "execution_count": null,
      "outputs": []
    },
    {
      "cell_type": "code",
      "source": [
        "# plot a scree plot\n",
        "components = len(pca.explained_variance_ratio_) \\\n",
        "    if components is None else components\n",
        "plt.plot(range(1,components+1), \n",
        "         np.cumsum(pca.explained_variance_ratio_ * 100))\n",
        "plt.xlabel(\"Number of components\")\n",
        "plt.ylabel(\"Explained variance (%)\")"
      ],
      "metadata": {
        "colab": {
          "base_uri": "https://localhost:8080/",
          "height": 296
        },
        "id": "mJiYSa-v8hvT",
        "outputId": "42da3cd2-d774-42f6-9bef-79e0aed5d2f5"
      },
      "execution_count": null,
      "outputs": [
        {
          "output_type": "execute_result",
          "data": {
            "text/plain": [
              "Text(0, 0.5, 'Explained variance (%)')"
            ]
          },
          "metadata": {},
          "execution_count": 28
        },
        {
          "output_type": "display_data",
          "data": {
            "text/plain": [
              "<Figure size 432x288 with 1 Axes>"
            ],
            "image/png": "[encoded data removed]"
          },
          "metadata": {
            "needs_background": "light"
          }
        }
      ]
    },
    {
      "cell_type": "markdown",
      "source": [
        "Let’s now apply PCA to find the desired number of components based on the desired explained variance, say 85,5%:"
      ],
      "metadata": {
        "id": "gh8DnviB9hqX"
      }
    },
    {
      "cell_type": "code",
      "source": [
        "from sklearn.decomposition import PCA\n",
        "pca = PCA(n_components = 0.855)\n",
        "pca.fit(X_scaled)\n",
        "print(\"Cumulative Variances (Percentage):\")\n",
        "print(np.cumsum(pca.explained_variance_ratio_ * 100))\n",
        "components = len(pca.explained_variance_ratio_)\n",
        "print(f'Number of components: {components}')\n",
        "# Make the scree plot\n",
        "plt.plot(range(1, components + 1), np.cumsum(pca.explained_variance_ratio_ * 100))\n",
        "plt.xlabel(\"Number of components\")\n",
        "plt.ylabel(\"Explained variance (%)\")"
      ],
      "metadata": {
        "colab": {
          "base_uri": "https://localhost:8080/",
          "height": 366
        },
        "id": "Gta3t2gj9UhO",
        "outputId": "c949428d-1a34-4b2e-cc89-26b016f7512c"
      },
      "execution_count": null,
      "outputs": [
        {
          "output_type": "stream",
          "name": "stdout",
          "text": [
            "Cumulative Variances (Percentage):\n",
            "[19.38886879 31.27854443 42.44597556 52.39800051 62.04156616 68.16952671\n",
            " 72.96039881 77.61944788 82.02974063 85.47668484 88.12700046]\n",
            "Number of components: 11\n"
          ]
        },
        {
          "output_type": "execute_result",
          "data": {
            "text/plain": [
              "Text(0, 0.5, 'Explained variance (%)')"
            ]
          },
          "metadata": {},
          "execution_count": 29
        },
        {
          "output_type": "display_data",
          "data": {
            "text/plain": [
              "<Figure size 432x288 with 1 Axes>"
            ],
            "image/png": "[encoded data removed]"
          },
          "metadata": {
            "needs_background": "light"
          }
        }
      ]
    },
    {
      "cell_type": "markdown",
      "source": [
        "You can also find out the importance of each feature that contributes to each of the components using the components_ attribute of the pca object:"
      ],
      "metadata": {
        "id": "BLwWbDOf9_VT"
      }
    },
    {
      "cell_type": "code",
      "source": [
        "pca_components = abs(pca.components_)\n",
        "print(pca_components)"
      ],
      "metadata": {
        "colab": {
          "base_uri": "https://localhost:8080/"
        },
        "id": "y4dLhuyf-Acs",
        "outputId": "1aead3da-b257-4eb1-8ac5-ce1897928dc4"
      },
      "execution_count": null,
      "outputs": [
        {
          "output_type": "stream",
          "name": "stdout",
          "text": [
            "[[7.16323999e-02 7.16323999e-02 7.00139154e-02 1.24222733e-01\n",
            "  3.89516702e-02 4.24459247e-02 9.48838043e-02 1.59046661e-01\n",
            "  1.82864200e-01 2.85015465e-01 6.10859566e-02 2.75395150e-01\n",
            "  3.43358559e-01 2.21763423e-01 3.48122126e-01 2.97800452e-01\n",
            "  2.61833308e-01 2.25058948e-01 4.18234332e-01 2.57804531e-01]\n",
            " [8.93298111e-02 8.93298111e-02 1.34566638e-02 2.75115128e-02\n",
            "  3.83056781e-02 3.96448967e-02 4.14851891e-01 5.34629579e-01\n",
            "  5.97096290e-02 1.62874930e-01 4.29633891e-01 8.66917688e-02\n",
            "  1.26883166e-01 2.65941523e-02 1.45851483e-01 1.25659449e-01\n",
            "  8.78240439e-02 4.55724960e-01 1.56376510e-01 7.88467172e-02]\n",
            " [2.94837233e-01 2.94837233e-01 7.89706004e-02 2.33031439e-02\n",
            "  6.15872607e-02 6.77121848e-02 6.34334508e-02 1.57278292e-02\n",
            "  1.28039081e-01 1.28652748e-01 1.40125450e-02 3.13612646e-01\n",
            "  3.07645074e-01 2.47462354e-01 3.22447438e-01 3.48893855e-01\n",
            "  3.78608601e-01 1.28691974e-02 1.22955027e-01 3.67434803e-01]\n",
            " [4.10853184e-01 4.10853184e-01 6.72897739e-02 5.37250340e-02\n",
            "  4.93774973e-01 5.00416073e-01 1.37878949e-02 5.69077975e-02\n",
            "  2.50440379e-02 8.82573250e-02 3.90677521e-02 1.72947922e-01\n",
            "  8.53478547e-02 1.61394550e-01 4.82584278e-02 6.36143548e-02\n",
            "  1.75523273e-01 1.63851259e-02 7.43512641e-02 2.02878048e-01]\n",
            " [4.62577012e-01 4.62577012e-01 5.77863628e-02 9.93576295e-02\n",
            "  4.98065794e-01 4.89583614e-01 3.51112477e-03 2.97350937e-02\n",
            "  4.57877390e-03 8.17882271e-02 1.87174471e-02 1.17240857e-01\n",
            "  8.08524353e-02 5.67544635e-02 5.76507148e-02 3.85452638e-02\n",
            "  1.44144840e-01 1.21912876e-02 4.25577414e-02 1.09838827e-01]\n",
            " [1.04281330e-01 1.04281330e-01 5.34324415e-01 4.55752775e-01\n",
            "  1.00664838e-02 9.27696639e-03 2.00290913e-01 4.79375144e-02\n",
            "  1.52535202e-01 4.24346355e-01 2.74835124e-01 5.87422331e-02\n",
            "  2.63075839e-03 1.39623896e-01 1.71966536e-01 2.52142230e-01\n",
            "  1.03728940e-01 2.87897945e-02 1.65804647e-01 9.15658245e-02]\n",
            " [3.07823949e-02 3.07823949e-02 4.07442770e-01 1.79322759e-01\n",
            "  1.03268762e-02 1.04799967e-02 4.29898284e-01 1.86366626e-01\n",
            "  6.04493278e-01 1.43977950e-01 1.95612664e-01 5.74076941e-02\n",
            "  1.03161052e-01 2.45768008e-01 4.83204005e-02 2.24487783e-02\n",
            "  2.88970686e-03 2.62464744e-01 9.83942236e-02 3.86325134e-03]\n",
            " [1.31581044e-03 1.31581044e-03 4.29669062e-01 3.55321016e-01\n",
            "  1.00256811e-02 1.09783063e-02 1.63854516e-01 1.01087471e-01\n",
            "  5.52642983e-01 3.39281390e-01 3.65101990e-01 7.36529883e-02\n",
            "  2.31149712e-02 1.26118091e-01 6.27419335e-03 3.66570749e-02\n",
            "  3.18242027e-02 2.11815526e-01 1.69099663e-01 1.71220458e-02]\n",
            " [6.37811458e-02 6.37811458e-02 5.16721524e-01 7.35515081e-01\n",
            "  1.29172797e-02 1.19440274e-02 1.16879218e-01 2.79507451e-02\n",
            "  2.92983413e-01 8.95541586e-02 1.70148466e-01 8.76166240e-02\n",
            "  2.56061480e-02 4.56145442e-02 4.16727738e-02 1.61856780e-02\n",
            "  3.79355472e-02 1.60181364e-01 7.61684838e-02 3.17597276e-02]\n",
            " [7.10790757e-03 7.10790757e-03 2.27172326e-03 1.47229711e-01\n",
            "  2.51222757e-02 2.41561668e-02 2.27814527e-02 9.25128304e-03\n",
            "  2.27317129e-01 1.84648443e-01 1.07029154e-01 2.55502453e-01\n",
            "  4.23255616e-02 8.48437354e-01 5.55545728e-02 2.39778542e-02\n",
            "  2.14358066e-01 3.14548252e-02 5.11585221e-02 1.97581584e-01]\n",
            " [1.24604015e-02 1.24604015e-02 8.88335992e-02 5.16159613e-02\n",
            "  2.06936329e-03 3.56477296e-03 7.04145016e-01 3.58934541e-02\n",
            "  1.93459499e-01 8.29501061e-04 6.26496025e-01 1.11824512e-01\n",
            "  3.66675732e-02 1.38253580e-01 2.16151681e-02 7.73967857e-02\n",
            "  8.92347243e-02 2.18142786e-02 2.65138171e-02 1.16281334e-01]]\n"
          ]
        }
      ]
    },
    {
      "cell_type": "markdown",
      "source": [
        "For curiosity, let’s print out the top 6 features that contributes the most to each of the 11 components:"
      ],
      "metadata": {
        "id": "AvHPPqvU-a7Q"
      }
    },
    {
      "cell_type": "code",
      "source": [
        "print('Top 6 most important features in each component')\n",
        "print('===============================================')\n",
        "for row in range(pca_components.shape[0]):\n",
        "    # get the indices of the top 6 values in each row\n",
        "    temp = np.argpartition(-(pca_components[row]), 6)\n",
        "    \n",
        "    # sort the indices in descending order\n",
        "    indices = temp[np.argsort((-pca_components[row])[temp])][:6]\n",
        "    \n",
        "    # print the top 6 feature names\n",
        "    print(f'Component {row}: {Passenger_satisfaction.columns[indices].to_list()}')"
      ],
      "metadata": {
        "colab": {
          "base_uri": "https://localhost:8080/"
        },
        "id": "ZSMrhe2L-etp",
        "outputId": "f2f83012-572f-439a-d843-3e3f45891d20"
      },
      "execution_count": null,
      "outputs": [
        {
          "output_type": "stream",
          "name": "stdout",
          "text": [
            "Top 6 most important features in each component\n",
            "===============================================\n",
            "Component 0: ['In-flight Entertainment', 'Cleanliness', 'Seat Comfort', 'Food and Drink', 'Online Boarding', 'On-board Service']\n",
            "Component 1: ['Ease of Online Booking', 'In-flight Wifi Service', 'Gate Location', 'Departure and Arrival Time Convenience', 'Online Boarding', 'In-flight Entertainment']\n",
            "Component 2: ['In-flight Service', 'Baggage Handling', 'Food and Drink', 'Cleanliness', 'On-board Service', 'Seat Comfort']\n",
            "Component 3: ['Arrival Delay', 'Departure Delay', 'index', 'ID', 'Baggage Handling', 'In-flight Service']\n",
            "Component 4: ['Departure Delay', 'Arrival Delay', 'index', 'ID', 'In-flight Service', 'On-board Service']\n",
            "Component 5: ['Age', 'Flight Distance', 'Online Boarding', 'Gate Location', 'Food and Drink', 'Departure and Arrival Time Convenience']\n",
            "Component 6: ['Check-in Service', 'Departure and Arrival Time Convenience', 'Age', 'In-flight Wifi Service', 'Leg Room Service', 'Gate Location']\n",
            "Component 7: ['Check-in Service', 'Age', 'Gate Location', 'Flight Distance', 'Online Boarding', 'In-flight Wifi Service']\n",
            "Component 8: ['Flight Distance', 'Age', 'Check-in Service', 'Gate Location', 'In-flight Wifi Service', 'Departure and Arrival Time Convenience']\n",
            "Component 9: ['Leg Room Service', 'On-board Service', 'Check-in Service', 'In-flight Service', 'Baggage Handling', 'Online Boarding']\n",
            "Component 10: ['Departure and Arrival Time Convenience', 'Gate Location', 'Check-in Service', 'Leg Room Service', 'Baggage Handling', 'On-board Service']\n"
          ]
        }
      ]
    },
    {
      "cell_type": "markdown",
      "source": [
        "Transforming all the 20 Columns to the 11 Principal Components\n",
        "\n",
        "You can now transform the standardized data of the 20 columns in the dataset to the 11 principal components:"
      ],
      "metadata": {
        "id": "2HKoq9G4_iPD"
      }
    },
    {
      "cell_type": "code",
      "source": [
        "X_pca = pca.transform(X_scaled)\n",
        "print(X_pca.shape)\n",
        "print(X_pca)"
      ],
      "metadata": {
        "colab": {
          "base_uri": "https://localhost:8080/"
        },
        "id": "PYCbMFXw_tnE",
        "outputId": "a0c20fb8-3c62-4f96-9632-24093486ccfd"
      },
      "execution_count": null,
      "outputs": [
        {
          "output_type": "stream",
          "name": "stdout",
          "text": [
            "(129487, 11)\n",
            "[[-1.95546313  0.42287475  1.8356203  ... -0.19326918  0.97968381\n",
            "   0.62188954]\n",
            " [-1.94330951  1.32904574  0.40287242 ... -0.48473629  0.04161652\n",
            "  -0.07522184]\n",
            " [-1.40889694 -1.63317628  2.81662994 ...  0.20622759 -0.20467948\n",
            "   0.15459798]\n",
            " ...\n",
            " [ 0.1263421   1.12195668 -2.08043573 ... -0.74693747 -0.46485538\n",
            "  -1.64941695]\n",
            " [-1.46933013 -0.54292507 -1.84269024 ... -1.95666829 -0.40045895\n",
            "  -1.35681613]\n",
            " [ 2.08126154  0.29989435 -1.16867165 ... -0.27062167 -1.23224754\n",
            "  -0.00983999]]\n"
          ]
        }
      ]
    },
    {
      "cell_type": "markdown",
      "source": [
        "Creating a Machine Learning Pipeline\n",
        "\n",
        "Let’s now create a machine learning pipeline so that we can formalize the entire process:"
      ],
      "metadata": {
        "id": "dIF3392L_05Y"
      }
    },
    {
      "cell_type": "code",
      "source": [
        "from sklearn.pipeline import Pipeline\n",
        "from sklearn.preprocessing import StandardScaler\n",
        "from sklearn.decomposition import PCA\n",
        "from sklearn.linear_model import LogisticRegression\n",
        "_sc = StandardScaler()\n",
        "_pca = PCA(n_components = components)\n",
        "_model = LogisticRegression()\n",
        "log_regress_model = Pipeline([\n",
        "    ('std_scaler', _sc),\n",
        "    ('pca', _pca),\n",
        "    ('regressor', _model)\n",
        "])"
      ],
      "metadata": {
        "id": "O_EeicsE_3K9"
      },
      "execution_count": null,
      "outputs": []
    },
    {
      "cell_type": "markdown",
      "source": [
        "We then split the dataset into training and testing sets and train the model using the training set:"
      ],
      "metadata": {
        "id": "cBSugOv5_-gv"
      }
    },
    {
      "cell_type": "code",
      "source": [
        "# perform a split\n",
        "X_train, X_test, y_train, y_test = \\\n",
        "    train_test_split(X, y, \n",
        "                     test_size=0.3,\n",
        "                     shuffle=True, \n",
        "                     random_state=random_state)\n",
        "# train the model using the PCA components\n",
        "log_regress_model.fit(X_train,y_train)"
      ],
      "metadata": {
        "colab": {
          "base_uri": "https://localhost:8080/"
        },
        "id": "YlzOQufD__hQ",
        "outputId": "240eb1dc-7b7f-4dae-f52e-3099b8791814"
      },
      "execution_count": null,
      "outputs": [
        {
          "output_type": "execute_result",
          "data": {
            "text/plain": [
              "Pipeline(steps=[('std_scaler', StandardScaler()), ('pca', PCA(n_components=11)),\n",
              "                ('regressor', LogisticRegression())])"
            ]
          },
          "metadata": {},
          "execution_count": 34
        }
      ]
    },
    {
      "cell_type": "markdown",
      "source": [
        "And let’s score the model to see how it performs:"
      ],
      "metadata": {
        "id": "jifMmUHMAJm6"
      }
    },
    {
      "cell_type": "code",
      "source": [
        "log_regress_model.score(X_test,y_test)"
      ],
      "metadata": {
        "colab": {
          "base_uri": "https://localhost:8080/"
        },
        "id": "mloYoU0cAKcI",
        "outputId": "a00ed7a7-5b35-4c49-fdb8-4e032ccc069e"
      },
      "execution_count": null,
      "outputs": [
        {
          "output_type": "execute_result",
          "data": {
            "text/plain": [
              "0.8235642391947898"
            ]
          },
          "metadata": {},
          "execution_count": 36
        }
      ]
    },
    {
      "cell_type": "markdown",
      "source": [
        "###We improve our model accuracy 1,64% (0.8235642391947898 - 0.8071665765696193) using PCA.\n",
        "\n",
        "\n"
      ],
      "metadata": {
        "id": "kCod_410Ac9-"
      }
    },
    {
      "cell_type": "markdown",
      "source": [
        "###We trained 3 different models in these project:\n",
        "\n",
        "###- Using all the 20 features. \n",
        "###- Using only 6 feature of the dataset.\n",
        "###- Applying PCA to the dataset and then use the 11 components for training."
      ],
      "metadata": {
        "id": "tSIpukcEBd2w"
      }
    },
    {
      "cell_type": "markdown",
      "source": [
        "##Findings for the use of case:\n",
        "\n",
        "##We improved our performance in a significant way by reducing from 20 features to 6. In this case by applying PCA model we don't upgrade our performance in a meaningful way, but we also improve and PCA analysis helps us to estimate the optimal number of components. "
      ],
      "metadata": {
        "id": "ByRdWYfDCHL-"
      }
    },
    {
      "cell_type": "markdown",
      "source": [],
      "metadata": {
        "id": "ErPKQ98ME-tm"
      }
    }
  ]
}
